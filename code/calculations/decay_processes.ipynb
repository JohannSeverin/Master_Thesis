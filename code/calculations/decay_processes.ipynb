{
 "cells": [
  {
   "cell_type": "code",
   "execution_count": 50,
   "metadata": {},
   "outputs": [],
   "source": [
    "import sympy as sp\n",
    "from sympy.abc import x, y, z\n",
    "\n",
    "sp.init_printing()\n",
    "\n",
    "import matplotlib.pyplot as plt\n",
    "import sys\n",
    "sys.path.append('../')\n",
    "\n",
    "# plt.style.use('')"
   ]
  },
  {
   "cell_type": "code",
   "execution_count": 51,
   "metadata": {},
   "outputs": [],
   "source": [
    "from sympy.abc import a, b\n",
    "f1, f2 = sp.symbols(\"p_0 p_1\")\n",
    "a,  b  = sp.symbols(r\"\\Gamma_\\uparrow \\Gamma_\\downarrow\")\n",
    "A = sp.Matrix(2, 2, [-a, b, a, -b])\n",
    "\n",
    "f = sp.Matrix(2, 1, [f1, f2])"
   ]
  },
  {
   "cell_type": "code",
   "execution_count": 52,
   "metadata": {},
   "outputs": [
    {
     "data": {
      "text/latex": [
       "$\\displaystyle \\left( \\left[\\begin{matrix}\\frac{\\Gamma_{\\downarrow}}{\\Gamma_{\\uparrow}} & -1\\\\1 & 1\\end{matrix}\\right], \\  \\left[\\begin{matrix}0 & 0\\\\0 & - \\Gamma_{\\downarrow} - \\Gamma_{\\uparrow}\\end{matrix}\\right]\\right)$"
      ],
      "text/plain": [
       "⎛⎡\\Gamma_\\downarrow    ⎤                                           ⎞\n",
       "⎜⎢─────────────────  -1⎥  ⎡0                   0                  ⎤⎟\n",
       "⎜⎢ \\Gamma_\\uparrow     ⎥, ⎢                                       ⎥⎟\n",
       "⎜⎢                     ⎥  ⎣0  -\\Gamma_\\downarrow - \\Gamma_\\uparrow⎦⎟\n",
       "⎝⎣        1          1 ⎦                                           ⎠"
      ]
     },
     "execution_count": 52,
     "metadata": {},
     "output_type": "execute_result"
    }
   ],
   "source": [
    "P, D  = A.diagonalize()\n",
    "P, D "
   ]
  },
  {
   "cell_type": "code",
   "execution_count": 53,
   "metadata": {},
   "outputs": [
    {
     "data": {
      "text/latex": [
       "$\\displaystyle \\left( \\left[\\begin{matrix}\\frac{\\Gamma_{\\downarrow} p_{0}}{\\Gamma_{\\uparrow}} - p_{1}\\\\p_{0} + p_{1}\\end{matrix}\\right], \\  \\left[\\begin{matrix}p_{0} \\left(- \\Gamma_{\\downarrow} - \\Gamma_{\\uparrow}\\right) + p_{1} \\left(\\frac{\\Gamma_{\\downarrow}^{2}}{\\Gamma_{\\uparrow}} + \\Gamma_{\\downarrow}\\right)\\\\0\\end{matrix}\\right]\\right)$"
      ],
      "text/plain": [
       "⎛                             ⎡                                               \n",
       "⎜⎡\\Gamma_\\downarrow⋅p₀     ⎤  ⎢                                               \n",
       "⎜⎢──────────────────── - p₁⎥  ⎢p₀⋅(-\\Gamma_\\downarrow - \\Gamma_\\uparrow) + p₁⋅\n",
       "⎜⎢  \\Gamma_\\uparrow        ⎥, ⎢                                               \n",
       "⎜⎢                         ⎥  ⎢                                               \n",
       "⎝⎣         p₀ + p₁         ⎦  ⎣                                           0   \n",
       "\n",
       "⎛                 2                    ⎞⎤⎞\n",
       "⎜\\Gamma_\\downarrow                     ⎟⎥⎟\n",
       "⎜────────────────── + \\Gamma_\\downarrow⎟⎥⎟\n",
       "⎝ \\Gamma_\\uparrow                      ⎠⎥⎟\n",
       "                                        ⎥⎟\n",
       "                                        ⎦⎠"
      ]
     },
     "execution_count": 53,
     "metadata": {},
     "output_type": "execute_result"
    }
   ],
   "source": [
    "P * f, P * A * f"
   ]
  },
  {
   "cell_type": "code",
   "execution_count": 54,
   "metadata": {},
   "outputs": [],
   "source": [
    "f, g = sp.symbols(\"p_0 p_1\", cls = sp.Function)\n",
    "t    = sp.symbols(\"t\")\n",
    "# a, b = sp.symbols(\"a b\")\n",
    "\n"
   ]
  },
  {
   "cell_type": "code",
   "execution_count": 55,
   "metadata": {},
   "outputs": [
    {
     "data": {
      "image/png": "[encoded data removed]",
      "text/latex": [
       "$\\displaystyle \\left( \\frac{d}{d t} \\operatorname{p_{0}}{\\left(t \\right)} = \\Gamma_{\\downarrow} \\operatorname{p_{1}}{\\left(t \\right)} - \\Gamma_{\\uparrow} \\operatorname{p_{0}}{\\left(t \\right)}, \\  \\frac{d}{d t} \\operatorname{p_{1}}{\\left(t \\right)} = - \\Gamma_{\\downarrow} \\operatorname{p_{1}}{\\left(t \\right)} + \\Gamma_{\\uparrow} \\operatorname{p_{0}}{\\left(t \\right)}\\right)$"
      ],
      "text/plain": [
       "⎛d                                                            d               \n",
       "⎜──(p₀(t)) = \\Gamma_\\downarrow⋅p₁(t) - \\Gamma_\\uparrow⋅p₀(t), ──(p₁(t)) = -\\Ga\n",
       "⎝dt                                                           dt              \n",
       "\n",
       "                                            ⎞\n",
       "mma_\\downarrow⋅p₁(t) + \\Gamma_\\uparrow⋅p₀(t)⎟\n",
       "                                            ⎠"
      ]
     },
     "execution_count": 55,
     "metadata": {},
     "output_type": "execute_result"
    }
   ],
   "source": [
    "eq1 = sp.Eq(f(t).diff(t), - a * f(t) + b * g(t))\n",
    "eq2 = sp.Eq(g(t).diff(t),   a * f(t) - b * g(t))\n",
    "\n",
    "eq1, eq2"
   ]
  },
  {
   "cell_type": "code",
   "execution_count": 56,
   "metadata": {},
   "outputs": [
    {
     "data": {
      "image/png": "[encoded data removed]",
      "text/latex": [
       "$\\displaystyle \\left[ \\operatorname{p_{0}}{\\left(t \\right)} = \\frac{\\Gamma_{\\downarrow}}{\\Gamma_{\\downarrow} + \\Gamma_{\\uparrow}} - \\left(\\frac{\\Gamma_{\\downarrow}}{\\Gamma_{\\downarrow} + \\Gamma_{\\uparrow}} - f_{0}\\right) e^{- t \\left(\\Gamma_{\\downarrow} + \\Gamma_{\\uparrow}\\right)}, \\  \\operatorname{p_{1}}{\\left(t \\right)} = \\frac{\\Gamma_{\\uparrow}}{\\Gamma_{\\downarrow} + \\Gamma_{\\uparrow}} + \\left(\\frac{\\Gamma_{\\downarrow}}{\\Gamma_{\\downarrow} + \\Gamma_{\\uparrow}} - f_{0}\\right) e^{- t \\left(\\Gamma_{\\downarrow} + \\Gamma_{\\uparrow}\\right)}\\right]$"
      ],
      "text/plain": [
       "⎡                 \\Gamma_\\downarrow            ⎛         \\Gamma_\\downarrow    \n",
       "⎢p₀(t) = ─────────────────────────────────── - ⎜──────────────────────────────\n",
       "⎣        \\Gamma_\\downarrow + \\Gamma_\\uparrow   ⎝\\Gamma_\\downarrow + \\Gamma_\\up\n",
       "\n",
       "          ⎞  -t⋅(\\Gamma_\\downarrow + \\Gamma_\\uparrow)                    \\Gamm\n",
       "───── - f₀⎟⋅ℯ                                        , p₁(t) = ───────────────\n",
       "arrow     ⎠                                                    \\Gamma_\\downarr\n",
       "\n",
       "a_\\uparrow             ⎛         \\Gamma_\\downarrow              ⎞  -t⋅(\\Gamma_\n",
       "──────────────────── + ⎜─────────────────────────────────── - f₀⎟⋅ℯ           \n",
       "ow + \\Gamma_\\uparrow   ⎝\\Gamma_\\downarrow + \\Gamma_\\uparrow     ⎠             \n",
       "\n",
       "\\downarrow + \\Gamma_\\uparrow)⎤\n",
       "                             ⎥\n",
       "                             ⎦"
      ]
     },
     "execution_count": 56,
     "metadata": {},
     "output_type": "execute_result"
    }
   ],
   "source": [
    "from sympy.solvers.ode.systems import dsolve_system\n",
    "f0 = sp.symbols(\"f_0\")\n",
    "g0 = 1 - f0\n",
    "sols = dsolve_system([eq1, eq2], [f(t), g(t)], ics = {f(0): f0, g(0): g0})\n",
    "sols[0]"
   ]
  },
  {
   "cell_type": "code",
   "execution_count": 57,
   "metadata": {},
   "outputs": [
    {
     "data": {
      "image/png": "[encoded data removed]",
      "text/latex": [
       "$\\displaystyle \\left( \\frac{\\Gamma_{\\downarrow}}{\\Gamma_{\\downarrow} + \\Gamma_{\\uparrow}} - \\left(\\frac{\\Gamma_{\\downarrow}}{\\Gamma_{\\downarrow} + \\Gamma_{\\uparrow}} - f_{0}\\right) e^{- t \\left(\\Gamma_{\\downarrow} + \\Gamma_{\\uparrow}\\right)}, \\  \\frac{\\Gamma_{\\uparrow}}{\\Gamma_{\\downarrow} + \\Gamma_{\\uparrow}} + \\left(\\frac{\\Gamma_{\\downarrow}}{\\Gamma_{\\downarrow} + \\Gamma_{\\uparrow}} - f_{0}\\right) e^{- t \\left(\\Gamma_{\\downarrow} + \\Gamma_{\\uparrow}\\right)}\\right)$"
      ],
      "text/plain": [
       "⎛         \\Gamma_\\downarrow            ⎛         \\Gamma_\\downarrow            \n",
       "⎜─────────────────────────────────── - ⎜─────────────────────────────────── - \n",
       "⎝\\Gamma_\\downarrow + \\Gamma_\\uparrow   ⎝\\Gamma_\\downarrow + \\Gamma_\\uparrow   \n",
       "\n",
       "  ⎞  -t⋅(\\Gamma_\\downarrow + \\Gamma_\\uparrow)            \\Gamma_\\uparrow      \n",
       "f₀⎟⋅ℯ                                        , ───────────────────────────────\n",
       "  ⎠                                            \\Gamma_\\downarrow + \\Gamma_\\upa\n",
       "\n",
       "       ⎛         \\Gamma_\\downarrow              ⎞  -t⋅(\\Gamma_\\downarrow + \\Ga\n",
       "──── + ⎜─────────────────────────────────── - f₀⎟⋅ℯ                           \n",
       "rrow   ⎝\\Gamma_\\downarrow + \\Gamma_\\uparrow     ⎠                             \n",
       "\n",
       "mma_\\uparrow)⎞\n",
       "             ⎟\n",
       "             ⎠"
      ]
     },
     "execution_count": 57,
     "metadata": {},
     "output_type": "execute_result"
    }
   ],
   "source": [
    "f_sol = sols[0][0].rhs\n",
    "g_sol = sols[0][1].rhs\n",
    "\n",
    "\n",
    "subs = {a: 1 / 10, b: 1 / 100, f0: 0.95, g0: 0.05}\n",
    "\n",
    "f_sol, g_sol"
   ]
  },
  {
   "cell_type": "code",
   "execution_count": null,
   "metadata": {},
   "outputs": [],
   "source": []
  },
  {
   "cell_type": "code",
   "execution_count": 58,
   "metadata": {},
   "outputs": [
    {
     "data": {
      "image/png": "[encoded data removed]",
      "text/plain": [
       "<Figure size 640x480 with 1 Axes>"
      ]
     },
     "metadata": {},
     "output_type": "display_data"
    },
    {
     "data": {
      "text/plain": [
       "<sympy.plotting.plot.Plot at 0x7f367b6594f0>"
      ]
     },
     "execution_count": 58,
     "metadata": {},
     "output_type": "execute_result"
    }
   ],
   "source": [
    "from sympy.plotting import plot\n",
    "plot(f_sol.subs(subs), g_sol.subs(subs), (f_sol + g_sol).subs(subs), (t, 0, 100), show = True)"
   ]
  },
  {
   "cell_type": "code",
   "execution_count": null,
   "metadata": {},
   "outputs": [],
   "source": []
  }
 ],
 "metadata": {
  "kernelspec": {
   "display_name": "base",
   "language": "python",
   "name": "python3"
  },
  "language_info": {
   "codemirror_mode": {
    "name": "ipython",
    "version": 3
   },
   "file_extension": ".py",
   "mimetype": "text/x-python",
   "name": "python",
   "nbconvert_exporter": "python",
   "pygments_lexer": "ipython3",
   "version": "3.9.13"
  },
  "orig_nbformat": 4
 },
 "nbformat": 4,
 "nbformat_minor": 2
}
