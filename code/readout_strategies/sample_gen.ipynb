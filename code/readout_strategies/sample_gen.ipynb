{
 "cells": [
  {
   "cell_type": "code",
   "execution_count": null,
   "metadata": {},
   "outputs": [],
   "source": [
    "import numpy as np\n",
    "import matplotlib.pyplot as plt\n",
    "import sys\n",
    "\n",
    "plt.style.use(\"../matplotlib_style/standard_plot_style.mplstyle\")\n",
    "\n",
    "import qutip\n",
    "\n",
    "save_figures = False\n",
    "save_path    = \"/mnt/c/Users/johan/OneDrive/Skrivebord/Master_Thesis/Figs/Dispersive_Simulations\"\n",
    "\n",
    "sys.path.append(\"../utils\")"
   ]
  },
  {
   "cell_type": "markdown",
   "metadata": {},
   "source": [
    "## Simulate Qubit\n",
    "We take the qubit from Elie Genois - Quantum-tailored readout strategies for quantum error correction - DOI:https://doi.org/10.1103/PRXQuantum.2.040355\n"
   ]
  },
  {
   "cell_type": "code",
   "execution_count": 1,
   "metadata": {},
   "outputs": [],
   "source": [
    "sample_size    = 1\n",
    "drive_freq     = \"inbetween\" # \"inbetween\", \"q0\" or \"q1\"\n",
    "\n",
    "name = \"inbetween_5us_2k\""
   ]
  },
  {
   "cell_type": "code",
   "execution_count": 3,
   "metadata": {},
   "outputs": [],
   "source": [
    "## Setup parameters:\n",
    "simulation_steps = 501\n",
    "nsubsteps        = 20    \n",
    "\n",
    "# Setup Qubit, Resonator and Coupling\n",
    "qubit_states    = 3\n",
    "n_cutoff        = 15\n",
    "EJ              = 10 * 2 * np.pi # h GHz\n",
    "EC              = EJ / 25\n",
    "\n",
    "resonator_states        = 10\n",
    "resonator_frequency     = 6.02 * 2 * np.pi    \n",
    "\n",
    "coupling_strength       = 0.250 * 2 * np.pi\n",
    "\n",
    "\n",
    "# Setup drive\n",
    "drive_amplitude        = 0.015\n",
    "driving_time           = (0, 5000)\n",
    "\n",
    "# Setup the qubit decay\n",
    "rate_qubit_decay  = 1 / 10_000 # T1 time is 10 us\n",
    "rate_qubit_excite = 0.0        # No excitation, could be introduced by temperature\n",
    "\n",
    "readout_photon_rate = 0.1      # This is around optimal for this qubit kappa = 2 \\chi \n",
    "readout_efficiency  = .75      # 1 is perfect measurement and 0 is no information gain\n",
    "\n",
    "\n",
    "# Define Qubit object\n",
    "import components as comp\n",
    "qubit = comp.Transmon(\n",
    "    EC = EC,\n",
    "    EJ = EJ,\n",
    "    basis = \"charge\",\n",
    "    n_cutoff = n_cutoff\n",
    ")\n",
    "# Define resonator operators\n",
    "from qutip import destroy\n",
    "a       = destroy(resonator_states)\n",
    "a_dag   = a.dag()\n",
    "\n",
    "\n",
    "# Get Qubit operators for the two level qubit\n",
    "H_qubit, jump_matrix = qubit.lowest_k_eigenstates(k = qubit_states)"
   ]
  },
  {
   "cell_type": "code",
   "execution_count": 4,
   "metadata": {},
   "outputs": [
    {
     "name": "stdout",
     "output_type": "stream",
     "text": [
      "omega_01 / h: \t5.222 GHz\n",
      "omega_02 / h: \t9.923 GHz\n",
      "omega_12 / h: \t4.700 GHz\n",
      "omega_r / h: \t6.020 GHz\n",
      "omega_r_q0 / h: \t6.029 GHz\n",
      "omega_r_q1 / h: \t6.020 GHz\n",
      "omega_r_q2 / h: \t6.010 GHz\n",
      "dispersive_shift: \t0.009 GHz\n"
     ]
    }
   ],
   "source": [
    "# Derived quantities\n",
    "\n",
    "# Calculate all types of constants, which is useful for further analysis:\n",
    "omega_01 = H_qubit.diag()[1] - H_qubit.diag()[0]\n",
    "omega_02 = H_qubit.diag()[2] - H_qubit.diag()[0]\n",
    "omega_12 = H_qubit.diag()[2] - H_qubit.diag()[1]\n",
    "\n",
    "# Calculate the dispersive shifts\n",
    "# Multi qubit shifts\n",
    "g_squared_matrix    = coupling_strength ** 2 * abs(jump_matrix.full()) ** 2\n",
    "omega_ij_matrix     = np.expand_dims(H_qubit.diag(), 1) - np.expand_dims(H_qubit.diag(), 0)\n",
    "omega_r             = resonator_frequency\n",
    "\n",
    "# The Chi-matrix\n",
    "chi_matrix          = g_squared_matrix * (1 / (omega_ij_matrix - omega_r) + 1 / (omega_ij_matrix + omega_r)) \n",
    "\n",
    "# The dis\n",
    "dispersive_shifts   = chi_matrix.sum(axis = 1) / 2 / np.pi\n",
    "\n",
    "\n",
    "# Omega resonator for qubits\n",
    "omega_resonator_qubit = resonator_frequency + dispersive_shifts\n",
    "\n",
    "# Print\n",
    "print_dict = {\n",
    "    \"omega_01 / h\": omega_01 / (2 * np.pi),\n",
    "    \"omega_02 / h\": omega_02 / (2 * np.pi),\n",
    "    \"omega_12 / h\": omega_12 / (2 * np.pi),\n",
    "    \"omega_r / h\": omega_r / (2 * np.pi),\n",
    "    \"omega_r_q0 / h\": omega_resonator_qubit[0] / (2 * np.pi),  \n",
    "    \"omega_r_q1 / h\": omega_resonator_qubit[1] / (2 * np.pi),\n",
    "    \"omega_r_q2 / h\": omega_resonator_qubit[2] / (2 * np.pi),\n",
    "    \"dispersive_shift\": (dispersive_shifts[0] - dispersive_shifts[1]) / (2 * np.pi),\n",
    "}\n",
    "\n",
    "for key, value in print_dict.items():\n",
    "    print(f\"{key}: \\t{value:.3f} GHz\")"
   ]
  },
  {
   "attachments": {},
   "cell_type": "markdown",
   "metadata": {},
   "source": [
    "## Define Hamiltonian - Dispersive limit:\n",
    "\n",
    "Non interacting:  \n",
    "\n",
    "$H_{eff} = (\\omega_r - \\omega_d  + \\sum_k \\chi_k \\ket{k}\\bra{k} ) a^\\dagger a$\n",
    "\n",
    "Driving\n",
    "\n",
    "$H_{d, eff} = \\epsilon (a^\\dagger + a)$"
   ]
  },
  {
   "cell_type": "code",
   "execution_count": 5,
   "metadata": {},
   "outputs": [],
   "source": [
    "from qutip import tensor\n",
    "\n",
    "# Drive inbetween the two qubit states\n",
    "drive_choices = {\n",
    "    \"inbetween\": (omega_resonator_qubit[0] + omega_resonator_qubit[1]) / 2,\n",
    "    \"q0\": omega_resonator_qubit[0],\n",
    "    \"q1\": omega_resonator_qubit[1],\n",
    "}\n",
    "\n",
    "drive_frequency = drive_choices[drive_freq] \n",
    "\n",
    "# Define the Hamiltonian components. \n",
    "H_res   = (omega_r - drive_frequency) * tensor(qutip.qeye(qubit_states), a_dag * a)\n",
    "H_disp  = tensor(qutip.Qobj(np.diag(dispersive_shifts)), a_dag * a)\n",
    "H_drive = drive_amplitude * tensor(qutip.qeye(qubit_states), a_dag + a)\n",
    "\n",
    "H =  H_res + H_disp + H_drive"
   ]
  },
  {
   "attachments": {},
   "cell_type": "markdown",
   "metadata": {},
   "source": [
    "# Simulations\n"
   ]
  },
  {
   "cell_type": "code",
   "execution_count": 6,
   "metadata": {},
   "outputs": [],
   "source": [
    "from qutip import ket2dm, operator_to_vector, create\n",
    "\n",
    "# Times\n",
    "tlist = np.linspace(*driving_time, simulation_steps)\n",
    "\n",
    "# Initial_states\n",
    "ground_resonator_state = qutip.basis(resonator_states, 0)\n",
    "ground_qubit_state     = qutip.basis(qubit_states, 0)\n",
    "excited_qubit_state    = qutip.basis(qubit_states, 1)\n",
    "\n",
    "# Define operators\n",
    "\n",
    "## Collapse Operators\n",
    "# Qubit decay\n",
    "qubit_decay_operator    = np.sqrt(rate_qubit_decay)     * destroy(qubit_states)\n",
    "qubit_excite_operator   = np.sqrt(rate_qubit_excite)    * create(qubit_states)\n",
    "\n",
    "# Resonator decay\n",
    "resonator_decay_operator = np.sqrt(readout_photon_rate) * destroy(resonator_states)\n",
    "\n",
    "## Expectation Operators\n",
    "# Qubit Occupation\n",
    "qubit_occupation_operator = qutip.num(qubit_states)\n",
    "\n",
    "# Resonator Occupation\n",
    "resonator_occupation_operator = qutip.num(resonator_states)\n",
    "\n",
    "resonator_I = a + a_dag\n",
    "resonator_Q = 1j * (a - a_dag)\n",
    "\n",
    "# Define the collapse operators\n",
    "e_ops = [\n",
    "    tensor(qutip.qeye(qubit_states), resonator_I),\n",
    "    tensor(qutip.qeye(qubit_states), resonator_Q)\n",
    "]\n"
   ]
  },
  {
   "cell_type": "code",
   "execution_count": 7,
   "metadata": {},
   "outputs": [],
   "source": [
    "from qutip.ipynbtools import HTMLProgressBar"
   ]
  },
  {
   "cell_type": "code",
   "execution_count": 8,
   "metadata": {},
   "outputs": [],
   "source": [
    "from qutip.ui import EnhancedTextProgressBar"
   ]
  },
  {
   "cell_type": "code",
   "execution_count": 9,
   "metadata": {},
   "outputs": [
    {
     "name": "stdout",
     "output_type": "stream",
     "text": [
      "Simulating the ground state...\n",
      " Total run time: 1564.89s] Elapsed 1564.87s / Remaining 00:00:00:00\n",
      "Simulating the excited state...\n",
      " Total run time: 1695.96s] Elapsed 1695.94s / Remaining 00:00:00:00\n"
     ]
    }
   ],
   "source": [
    "from qutip import vector_to_operator, lindblad_dissipator, spre, spost, liouvillian, qeye, parallel_map\n",
    "from qutip.expect import expect_rho_vec\n",
    "\n",
    "from qutip import smesolve\n",
    "\n",
    "qubit_decay =         tensor(qubit_decay_operator,        qutip.qeye(resonator_states))\n",
    "qubit_excitation =    tensor(qubit_excite_operator,       qutip.qeye(resonator_states))\n",
    "photon_decay =        tensor(qutip.qeye(qubit_states),    destroy(resonator_states))\n",
    "\n",
    "print(\"Simulating the ground state...\")\n",
    "result_ground_stochastic = smesolve(\n",
    "    H,\n",
    "    ket2dm(tensor(ground_qubit_state, ground_resonator_state)),\n",
    "    tlist,\n",
    "    c_ops  = [qubit_decay, qubit_excitation, np.sqrt(1 - readout_efficiency) * np.sqrt(readout_photon_rate) * photon_decay],\n",
    "    sc_ops = [np.sqrt(readout_efficiency * readout_photon_rate) * photon_decay],\n",
    "    e_ops = e_ops,\n",
    "    progress_bar = EnhancedTextProgressBar(sample_size // 2),\n",
    "    ntraj = sample_size // 2,\n",
    "    nsubsteps = nsubsteps,\n",
    "    method = \"heterodyne\",\n",
    "    store_measurement = True,\n",
    "    map_func = parallel_map,\n",
    "    dW_factors = [1],\n",
    "    solver = \"taylor15\"\n",
    ")\n",
    "\n",
    "print(\"Simulating the excited state...\")\n",
    "result_excited_stochastic = smesolve(\n",
    "    H,\n",
    "    ket2dm(tensor(excited_qubit_state, ground_resonator_state)),\n",
    "    tlist,\n",
    "    c_ops  = [qubit_decay, qubit_excitation],\n",
    "    sc_ops = [np.sqrt(readout_photon_rate) * photon_decay],\n",
    "    e_ops = e_ops,\n",
    "    ntraj = sample_size // 2,\n",
    "    nsubsteps = nsubsteps,\n",
    "    progress_bar = EnhancedTextProgressBar(sample_size // 2),\n",
    "    method = \"heterodyne\",\n",
    "    store_measurement = True,\n",
    "    map_func = parallel_map,\n",
    "    dW_factors = [1],\n",
    "    solver = \"taylor15\"\n",
    ")\n"
   ]
  },
  {
   "cell_type": "code",
   "execution_count": 10,
   "metadata": {},
   "outputs": [
    {
     "data": {
      "text/plain": [
       "[<matplotlib.lines.Line2D at 0x7f4ec2617670>]"
      ]
     },
     "execution_count": 10,
     "metadata": {},
     "output_type": "execute_result"
    },
    {
     "data": {
      "image/png": "[encoded data removed]",
      "text/plain": [
       "<Figure size 1200x800 with 1 Axes>"
      ]
     },
     "metadata": {},
     "output_type": "display_data"
    }
   ],
   "source": [
    "# Extract information\n",
    "I_ground    = result_ground_stochastic.expect[0]\n",
    "Q_ground    = result_ground_stochastic.expect[1]\n",
    "I_excited   = result_excited_stochastic.expect[0]\n",
    "Q_excited   = result_excited_stochastic.expect[1]\n",
    "\n",
    "# Plot\n",
    "fig, ax = plt.subplots(1, 1)\n",
    "ax.plot(I_ground, Q_ground, label = \"Ground\")\n",
    "ax.plot(I_excited, Q_excited, label = \"Excited\")"
   ]
  },
  {
   "cell_type": "code",
   "execution_count": 11,
   "metadata": {},
   "outputs": [],
   "source": [
    "scaling_for_exp_value = np.sqrt(2 / readout_photon_rate)\n",
    "\n",
    "ground_measurement  = scaling_for_exp_value * np.array(result_ground_stochastic.measurement).squeeze()\n",
    "excited_measurement = scaling_for_exp_value * np.array(result_excited_stochastic.measurement).squeeze()"
   ]
  },
  {
   "cell_type": "code",
   "execution_count": 12,
   "metadata": {},
   "outputs": [],
   "source": [
    "def rolling_mean(array, window = 500):\n",
    "    return np.convolve(array, np.ones(window), 'same') / window"
   ]
  },
  {
   "cell_type": "code",
   "execution_count": 13,
   "metadata": {},
   "outputs": [
    {
     "data": {
      "application/vnd.jupyter.widget-view+json": {
       "model_id": "ed9bbb73abeb4c9fb73ecc9791dd3e37",
       "version_major": 2,
       "version_minor": 0
      },
      "text/plain": [
       "interactive(children=(IntSlider(value=500, description='limit', max=1000), Output()), _dom_classes=('widget-in…"
      ]
     },
     "metadata": {},
     "output_type": "display_data"
    }
   ],
   "source": [
    "limit = 100\n",
    "\n",
    "def plotting_func(limit):\n",
    "\n",
    "    for i in range(result_excited_stochastic.ntraj):\n",
    "        plt.plot(np.cumsum(ground_measurement[i, :limit, 0]),  -np.cumsum(ground_measurement[i, :limit, 1]) , label = \"Ground\", color = \"C0\", alpha = 0.01)\n",
    "        plt.plot(np.cumsum(excited_measurement[i, :limit, 0]), -np.cumsum(excited_measurement[i, :limit, 1]) , label = \"Excited\", color = \"C1\", alpha = 0.01)\n",
    "\n",
    "    plt.scatter(ground_measurement[:, :limit, 0].sum(axis = 1), - ground_measurement[:, :limit, 1].sum(axis = 1) , label = \"Ground\", color = \"C0\", alpha = 0.75)\n",
    "    plt.scatter(excited_measurement[:, :limit, 0].sum(axis = 1), - excited_measurement[:, :limit, 1].sum(axis = 1) , label = \"Excited\", color = \"C1\", alpha = 0.75)\n",
    "\n",
    "from ipywidgets import interactive\n",
    "interactive(plotting_func, limit = (0, 1000, 1))"
   ]
  },
  {
   "cell_type": "code",
   "execution_count": 14,
   "metadata": {},
   "outputs": [],
   "source": [
    "import pandas as pd"
   ]
  },
  {
   "cell_type": "code",
   "execution_count": 15,
   "metadata": {},
   "outputs": [],
   "source": [
    "from tqdm import tqdm"
   ]
  },
  {
   "cell_type": "code",
   "execution_count": 16,
   "metadata": {},
   "outputs": [
    {
     "name": "stderr",
     "output_type": "stream",
     "text": [
      "100%|██████████| 1000/1000 [00:00<00:00, 5131.99it/s]\n",
      "100%|██████████| 1000/1000 [00:00<00:00, 4094.02it/s]\n"
     ]
    }
   ],
   "source": [
    "list_to_concat = []\n",
    "for i in tqdm(range(result_ground_stochastic.ntraj)):\n",
    "    data = {\n",
    "        \"trajectory\": i,\n",
    "        \"initial_state\": 0,\n",
    "        \"t\": tlist,\n",
    "        \"I\": ground_measurement[i, :, 0].real,\n",
    "        \"Q\": ground_measurement[i, :, 1].real\n",
    "    }\n",
    "    list_to_concat.append(pd.DataFrame(data))\n",
    "\n",
    "for i in tqdm(range(result_excited_stochastic.ntraj)):\n",
    "    data = {\n",
    "        \"trajectory\": i + result_ground_stochastic.ntraj,\n",
    "        \"initial_state\": 1,\n",
    "        \"t\": tlist,\n",
    "        \"I\": excited_measurement[i, :, 0].real,\n",
    "        \"Q\": excited_measurement[i, :, 1].real\n",
    "    }\n",
    "    list_to_concat.append(pd.DataFrame(data))\n",
    "\n",
    "df = pd.concat(list_to_concat)\n",
    "\n",
    "df.to_pickle(\"simulation_data/\" + name + \".pkl\")"
   ]
  }
 ],
 "metadata": {
  "kernelspec": {
   "display_name": "qi",
   "language": "python",
   "name": "python3"
  },
  "language_info": {
   "codemirror_mode": {
    "name": "ipython",
    "version": 3
   },
   "file_extension": ".py",
   "mimetype": "text/x-python",
   "name": "python",
   "nbconvert_exporter": "python",
   "pygments_lexer": "ipython3",
   "version": "3.9.13"
  },
  "orig_nbformat": 4
 },
 "nbformat": 4,
 "nbformat_minor": 2
}
