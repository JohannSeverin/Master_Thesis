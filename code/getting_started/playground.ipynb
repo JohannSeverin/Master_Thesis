{
 "cells": [
  {
   "cell_type": "code",
   "execution_count": 2,
   "metadata": {},
   "outputs": [],
   "source": [
    "import circuitq as cq\n",
    "\n",
    "import networkx as nx\n",
    "import numpy as np\n",
    "import matplotlib.pyplot as plt"
   ]
  },
  {
   "cell_type": "code",
   "execution_count": 3,
   "metadata": {},
   "outputs": [],
   "source": [
    "graph = nx.MultiGraph()\n",
    "\n",
    "graph.add_edge(0, 1, element = \"J\")\n",
    "graph.add_edge(0, 2, element = \"C\")\n",
    "graph.add_edge(0, 3, element = \"L\")\n",
    "graph.add_edge(1, 2, element = \"C\")\n",
    "graph.add_edge(1, 3, element = \"L\")\n",
    "graph.add_edge(2, 3, element = \"J\")\n",
    "\n",
    "circuit = cq.CircuitQ(graph)"
   ]
  },
  {
   "cell_type": "code",
   "execution_count": 4,
   "metadata": {},
   "outputs": [],
   "source": [
    "cq.visualize_circuit_general(graph, \"trial.png\")"
   ]
  },
  {
   "cell_type": "code",
   "execution_count": 6,
   "metadata": {},
   "outputs": [
    {
     "data": {
      "text/plain": [
       "[C_{02},\n",
       " C_{12},\n",
       " Cp_{01},\n",
       " Cp_{03},\n",
       " Cp_{13},\n",
       " Cp_{23},\n",
       " E_{J010},\n",
       " E_{J230},\n",
       " L_{030},\n",
       " L_{130},\n",
       " \\tilde{\\Phi}_{130}]"
      ]
     },
     "execution_count": 6,
     "metadata": {},
     "output_type": "execute_result"
    }
   ],
   "source": [
    "circuit.h_parameters"
   ]
  },
  {
   "cell_type": "code",
   "execution_count": null,
   "metadata": {},
   "outputs": [],
   "source": []
  }
 ],
 "metadata": {
  "kernelspec": {
   "display_name": "Python 3.9.13 ('qi')",
   "language": "python",
   "name": "python3"
  },
  "language_info": {
   "codemirror_mode": {
    "name": "ipython",
    "version": 3
   },
   "file_extension": ".py",
   "mimetype": "text/x-python",
   "name": "python",
   "nbconvert_exporter": "python",
   "pygments_lexer": "ipython3",
   "version": "3.9.13"
  },
  "orig_nbformat": 4,
  "vscode": {
   "interpreter": {
    "hash": "f6c6af7a5d17802718a1b9014d8fd6327bae134bc0eef148071f896cc5d034f6"
   }
  }
 },
 "nbformat": 4,
 "nbformat_minor": 2
}
