{
 "cells": [
  {
   "cell_type": "code",
   "execution_count": 1,
   "metadata": {},
   "outputs": [],
   "source": [
    "import numpy as np\n"
   ]
  },
  {
   "cell_type": "code",
   "execution_count": 2,
   "metadata": {},
   "outputs": [
    {
     "name": "stdout",
     "output_type": "stream",
     "text": [
      "T_phi = 1.384390243902439 ± 0.08470405175663093 µs\n"
     ]
    }
   ],
   "source": [
    "# T_phi \n",
    "\n",
    "T1 = 4.30 # µs\n",
    "T1_err = 0.12\n",
    "\n",
    "T2 = 1.65 # µs\n",
    "T2_err = 0.12\n",
    "\n",
    "def T_phi(T1, T2):\n",
    "    return 1/(1/T2 + 1/(2*T1))\n",
    "\n",
    "def T_phi_err(T1, T2, T1_err, T2_err):\n",
    "    return 2 * np.sqrt((T1_err ** 2 * T2 ** 4 + 4 * T2_err ** 2 * T1 ** 4) / (2 * T1 + T2) ** 4)\n",
    "\n",
    "T_phi_val = T_phi(T1, T2)\n",
    "T_phi__val_err = T_phi_err(T1, T2, T1_err, T2_err)\n",
    "\n",
    "print(f\"T_phi = {T_phi_val} ± {T_phi__val_err} µs\")"
   ]
  },
  {
   "cell_type": "code",
   "execution_count": null,
   "metadata": {},
   "outputs": [],
   "source": []
  },
  {
   "cell_type": "code",
   "execution_count": 3,
   "metadata": {},
   "outputs": [
    {
     "name": "stdout",
     "output_type": "stream",
     "text": [
      "fr = 7.555130e+09 ± 3.853342e+03 Hz\n",
      "chi = 7.635e+05 ± 3.853e+03 Hz\n",
      "g = 8.800e+07 ± 4.442e+05 Hz\n"
     ]
    }
   ],
   "source": [
    "frequency_0 = 7.555893e+09\n",
    "frequency_0_err = 3.293863e+03\n",
    "frequency_1 =  7.554366e+09\n",
    "frequency_1_err = 6.967312e+03\n",
    "\n",
    "qubit_freq = 5.98203e+09\n",
    "qubit_freq_err = 8.24256e+04\n",
    "\n",
    "alpha = 2.88806e+08 \n",
    "alpha_err = 1.52801e+05\n",
    "\n",
    "\n",
    "# Resonator Frequency\n",
    "fr = (frequency_0 + frequency_1) / 2\n",
    "fr_err = np.sqrt(frequency_0_err ** 2 + frequency_1_err ** 2) / 2\n",
    "\n",
    "print(f\"fr = {fr:.6e} ± {fr_err:.6e} Hz\")\n",
    "\n",
    "# Chi\n",
    "chi = (frequency_0 - frequency_1) / 2\n",
    "chi_err = np.sqrt(frequency_0_err ** 2 + frequency_1_err ** 2) / 2\n",
    "\n",
    "print(f\"chi = {chi:.3e} ± {chi_err:.3e} Hz\")\n",
    "\n",
    "# g \n",
    "detuning = fr - qubit_freq\n",
    "detuning_err = np.sqrt(fr_err ** 2 + qubit_freq_err ** 2)\n",
    "\n",
    "factor = 1 + detuning / alpha\n",
    "factor_err = .5 * np.sqrt((detuning_err ** 2 * alpha ** 2 + alpha_err ** 2 * detuning ** 2) / (alpha ** 3 * (detuning + alpha)))\n",
    "\n",
    "g = np.sqrt(chi * detuning * factor)\n",
    "g_err = np.sqrt(\n",
    "    (factor_err ** 2 * chi * detuning / factor) + \n",
    "    (chi_err ** 2 * detuning * factor / chi) +\n",
    "    (detuning_err ** 2 * chi * factor / detuning)\n",
    ")\n",
    "\n",
    "print(f\"g = {g:.3e} ± {g_err:.3e} Hz\")"
   ]
  },
  {
   "cell_type": "code",
   "execution_count": 4,
   "metadata": {},
   "outputs": [
    {
     "name": "stdout",
     "output_type": "stream",
     "text": [
      "from_0 = 3.873 ± 0.074 MHz\n",
      "from_1 = 3.495 ± 0.072 MHz\n"
     ]
    }
   ],
   "source": [
    "# Kappa from resonator spectroscopy \n",
    "\n",
    "from_0 = 6.164246e+05 * 1e-6 * 2* np.pi\n",
    "from_0_err = 1.185079e+04 * 1e-6 * 2* np.pi\n",
    "from_1 = 5.562317e+05  * 1e-6 * 2 * np.pi\n",
    "from_1_err = 1.150527e+04 * 1e-6 * 2 * np.pi\n",
    "\n",
    "print(f\"from_0 = {from_0:.3f} ± {from_0_err:.3f} MHz\")\n",
    "print(f\"from_1 = {from_1:.3f} ± {from_1_err:.3f} MHz\")"
   ]
  },
  {
   "cell_type": "code",
   "execution_count": 5,
   "metadata": {},
   "outputs": [
    {
     "name": "stdout",
     "output_type": "stream",
     "text": [
      "efficiency = 3.26e+00 ± 1.21e+00 %\n"
     ]
    }
   ],
   "source": [
    "# Efficiency \n",
    "a = 2.434441759154451\n",
    "a_err = 0.1459271950523622\n",
    "\n",
    "sigma =  7.420e-02\n",
    "sigma_err = 1.721e-03 \n",
    "\n",
    "efficiency = a ** 2 * sigma ** 2\n",
    "efficiency_err = np.sqrt(2 * a * sigma * (sigma * a_err) ** 2 + (a ** 2 * sigma_err) ** 2)\n",
    "\n",
    "print(f\"efficiency = {efficiency*1e2:.2e} ± {efficiency_err*1e2:.2e} %\")\n"
   ]
  },
  {
   "cell_type": "code",
   "execution_count": 9,
   "metadata": {},
   "outputs": [
    {
     "name": "stdout",
     "output_type": "stream",
     "text": [
      "temp = 131.84 ± 35.25 mK\n"
     ]
    }
   ],
   "source": [
    "# Temperature\n",
    "rho_0 = 1.01789e2 / 1000\n",
    "rho_1 = 1 - rho_0\n",
    "rho_0_err = 3.24616 / 1000\n",
    "rho_1_err = 3.24616 / 1000\n",
    "\n",
    "qubit_freq = 2 * np.pi * 5.98203e9\n",
    "qubit_freq_err =  2 * np.pi * 8.24256e4\n",
    "\n",
    "\n",
    "from scipy.constants import hbar, k\n",
    "\n",
    "def temperature(rho_0, rho_1, qubit_freq):\n",
    "    return hbar * qubit_freq / (k * (np.log(rho_1) - np.log(rho_0)))\n",
    "\n",
    "def temperature_err(rho_0, rho_1, qubit_freq, rho_0_err, rho_1_err, qubit_freq_err):\n",
    "    return hbar / k * np.sqrt(\n",
    "        (qubit_freq_err ** 2 * rho_0 ** 2 * rho_1 ** 2 * (np.log(rho_1) - np.log(rho_0)) ** 2 + qubit_freq ** 2 * (rho_1_err * rho_0) ** 2 + qubit_freq ** 2 * (rho_0_err * rho_1) ** 2) / \n",
    "        rho_0 ** 2 * rho_1 ** 2 * (np.log(rho_1) - np.log(rho_0)) ** 4 \n",
    "    )\n",
    "    # return np.sqrt(\n",
    "    #     (hbar * qubit_freq / (k * np.log(rho_1 / rho_0) ** 2)) ** 2 * \n",
    "    #     (rho_0_err ** 2 / rho_0 ** 2 + rho_1_err ** 2 / rho_1 ** 2) + \n",
    "    #     (hbar / (k * np.log(rho_1 / rho_0))) ** 2 * \n",
    "    #     (qubit_freq_err ** 2 / qubit_freq ** 2)\n",
    "    # )\n",
    "\n",
    "temp = temperature(rho_0, rho_1, qubit_freq)\n",
    "temp_err = temperature_err(rho_0, rho_1, qubit_freq, rho_0_err, rho_1_err, qubit_freq_err)\n",
    "\n",
    "print(f\"temp = {temp*1e3:.2f} ± {temp_err*1e3:.2f} mK\")\n",
    "\n"
   ]
  },
  {
   "cell_type": "code",
   "execution_count": null,
   "metadata": {},
   "outputs": [],
   "source": []
  }
 ],
 "metadata": {
  "kernelspec": {
   "display_name": "qi",
   "language": "python",
   "name": "python3"
  },
  "language_info": {
   "codemirror_mode": {
    "name": "ipython",
    "version": 3
   },
   "file_extension": ".py",
   "mimetype": "text/x-python",
   "name": "python",
   "nbconvert_exporter": "python",
   "pygments_lexer": "ipython3",
   "version": "3.9.13"
  }
 },
 "nbformat": 4,
 "nbformat_minor": 2
}
