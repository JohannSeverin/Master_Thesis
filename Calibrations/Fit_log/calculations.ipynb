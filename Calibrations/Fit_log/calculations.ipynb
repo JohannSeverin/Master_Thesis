{
 "cells": [
  {
   "cell_type": "code",
   "execution_count": 4,
   "metadata": {},
   "outputs": [],
   "source": [
    "import numpy as np\n"
   ]
  },
  {
   "cell_type": "code",
   "execution_count": 5,
   "metadata": {},
   "outputs": [
    {
     "name": "stdout",
     "output_type": "stream",
     "text": [
      "T_phi = 1.384390243902439 ± 0.08470405175663093 µs\n"
     ]
    }
   ],
   "source": [
    "# T_phi \n",
    "\n",
    "T1 = 4.30 # µs\n",
    "T1_err = 0.12\n",
    "\n",
    "T2 = 1.65 # µs\n",
    "T2_err = 0.12\n",
    "\n",
    "def T_phi(T1, T2):\n",
    "    return 1/(1/T2 + 1/(2*T1))\n",
    "\n",
    "def T_phi_err(T1, T2, T1_err, T2_err):\n",
    "    return 2 * np.sqrt((T1_err ** 2 * T2 ** 4 + 4 * T2_err ** 2 * T1 ** 4) / (2 * T1 + T2) ** 4)\n",
    "\n",
    "T_phi_val = T_phi(T1, T2)\n",
    "T_phi__val_err = T_phi_err(T1, T2, T1_err, T2_err)\n",
    "\n",
    "print(f\"T_phi = {T_phi_val} ± {T_phi__val_err} µs\")"
   ]
  },
  {
   "cell_type": "code",
   "execution_count": null,
   "metadata": {},
   "outputs": [],
   "source": []
  },
  {
   "cell_type": "code",
   "execution_count": 12,
   "metadata": {},
   "outputs": [
    {
     "name": "stdout",
     "output_type": "stream",
     "text": [
      "fr = 7.555130e+09 ± 3.853342e+03 Hz\n",
      "chi = 7.635e+05 ± 3.853e+03 Hz\n",
      "g = 8.800e+07 ± 4.442e+05 Hz\n"
     ]
    }
   ],
   "source": [
    "frequency_0 = 7.555893e+09\n",
    "frequency_0_err = 3.293863e+03\n",
    "frequency_1 =  7.554366e+09\n",
    "frequency_1_err = 6.967312e+03\n",
    "\n",
    "qubit_freq = 5.98203e+09\n",
    "qubit_freq_err = 8.24256e+04\n",
    "\n",
    "alpha = 2.88806e+08 \n",
    "alpha_err = 1.52801e+05\n",
    "\n",
    "\n",
    "# Resonator Frequency\n",
    "fr = (frequency_0 + frequency_1) / 2\n",
    "fr_err = np.sqrt(frequency_0_err ** 2 + frequency_1_err ** 2) / 2\n",
    "\n",
    "print(f\"fr = {fr:.6e} ± {fr_err:.6e} Hz\")\n",
    "\n",
    "# Chi\n",
    "chi = (frequency_0 - frequency_1) / 2\n",
    "chi_err = np.sqrt(frequency_0_err ** 2 + frequency_1_err ** 2) / 2\n",
    "\n",
    "print(f\"chi = {chi:.3e} ± {chi_err:.3e} Hz\")\n",
    "\n",
    "# g \n",
    "detuning = fr - qubit_freq\n",
    "detuning_err = np.sqrt(fr_err ** 2 + qubit_freq_err ** 2)\n",
    "\n",
    "factor = 1 + detuning / alpha\n",
    "factor_err = .5 * np.sqrt((detuning_err ** 2 * alpha ** 2 + alpha_err ** 2 * detuning ** 2) / (alpha ** 3 * (detuning + alpha)))\n",
    "\n",
    "g = np.sqrt(chi * detuning * factor)\n",
    "g_err = np.sqrt(\n",
    "    (factor_err ** 2 * chi * detuning / factor) + \n",
    "    (chi_err ** 2 * detuning * factor / chi) +\n",
    "    (detuning_err ** 2 * chi * factor / detuning)\n",
    ")\n",
    "\n",
    "print(f\"g = {g:.3e} ± {g_err:.3e} Hz\")"
   ]
  },
  {
   "cell_type": "code",
   "execution_count": 19,
   "metadata": {},
   "outputs": [
    {
     "name": "stdout",
     "output_type": "stream",
     "text": [
      "from_0 = 3.873 ± 0.074 MHz\n",
      "from_1 = 3.495 ± 0.072 MHz\n"
     ]
    }
   ],
   "source": [
    "# Kappa from resonator spectroscopy \n",
    "\n",
    "from_0 = 6.164246e+05 * 1e-6 * 2* np.pi\n",
    "from_0_err = 1.185079e+04 * 1e-6 * 2* np.pi\n",
    "from_1 = 5.562317e+05  * 1e-6 * 2 * np.pi\n",
    "from_1_err = 1.150527e+04 * 1e-6 * 2 * np.pi\n",
    "\n",
    "print(f\"from_0 = {from_0:.3f} ± {from_0_err:.3f} MHz\")\n",
    "print(f\"from_1 = {from_1:.3f} ± {from_1_err:.3f} MHz\")"
   ]
  },
  {
   "cell_type": "code",
   "execution_count": null,
   "metadata": {},
   "outputs": [],
   "source": []
  }
 ],
 "metadata": {
  "kernelspec": {
   "display_name": "qi",
   "language": "python",
   "name": "python3"
  },
  "language_info": {
   "codemirror_mode": {
    "name": "ipython",
    "version": 3
   },
   "file_extension": ".py",
   "mimetype": "text/x-python",
   "name": "python",
   "nbconvert_exporter": "python",
   "pygments_lexer": "ipython3",
   "version": "3.9.13"
  }
 },
 "nbformat": 4,
 "nbformat_minor": 2
}
