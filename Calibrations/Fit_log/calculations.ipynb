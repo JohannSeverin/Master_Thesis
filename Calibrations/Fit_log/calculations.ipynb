{
 "cells": [
  {
   "cell_type": "code",
   "execution_count": 1,
   "metadata": {},
   "outputs": [],
   "source": [
    "import numpy as np\n"
   ]
  },
  {
   "cell_type": "code",
   "execution_count": 6,
   "metadata": {},
   "outputs": [
    {
     "name": "stdout",
     "output_type": "stream",
     "text": [
      "T_phi = 1.33549815498155 ± 0.1173673181703708 µs\n"
     ]
    }
   ],
   "source": [
    "# T_phi \n",
    "\n",
    "T1 = 4.64 # µs\n",
    "T1_err = 0.12\n",
    "\n",
    "T2 = 1.56 # µs\n",
    "T2_err = 0.16\n",
    "\n",
    "def T_phi(T1, T2):\n",
    "    return 1/(1/T2 + 1/(2*T1))\n",
    "\n",
    "def T_phi_err(T1, T2, T1_err, T2_err):\n",
    "    return 2 * np.sqrt((T1_err ** 2 * T2 ** 4 + 4 * T2_err ** 2 * T1 ** 4) / (2 * T1 + T2) ** 4)\n",
    "\n",
    "T_phi_val = T_phi(T1, T2)\n",
    "T_phi__val_err = T_phi_err(T1, T2, T1_err, T2_err)\n",
    "\n",
    "print(f\"T_phi = {T_phi_val} ± {T_phi__val_err} µs\")"
   ]
  },
  {
   "cell_type": "code",
   "execution_count": null,
   "metadata": {},
   "outputs": [],
   "source": []
  }
 ],
 "metadata": {
  "kernelspec": {
   "display_name": "qi",
   "language": "python",
   "name": "python3"
  },
  "language_info": {
   "codemirror_mode": {
    "name": "ipython",
    "version": 3
   },
   "file_extension": ".py",
   "mimetype": "text/x-python",
   "name": "python",
   "nbconvert_exporter": "python",
   "pygments_lexer": "ipython3",
   "version": "3.9.13"
  }
 },
 "nbformat": 4,
 "nbformat_minor": 2
}
