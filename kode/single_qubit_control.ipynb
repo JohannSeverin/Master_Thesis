{
 "cells": [
  {
   "cell_type": "markdown",
   "metadata": {},
   "source": [
    "# Single Qubit Control\n",
    "This Notebook is made as an exercise to simulate quantum dynamics of a system. The goal is to control a single qubit by using a rabi oscillation which is coupled to it. "
   ]
  },
  {
   "cell_type": "markdown",
   "metadata": {},
   "source": [
    "The Hamiltonian we start with is a harmonic oscillator (LC circuit) which we drive with a pulse\n",
    "\\begin{equation}\n",
    "H=\\frac{\\tilde{Q}(t)^2}{2 C_{\\Sigma}}+\\frac{\\Phi^2}{2 L}+\\frac{C_{\\mathrm{d}}}{C_{\\Sigma}} V_{\\mathrm{d}}(t) \\tilde{Q},\n",
    "\\end{equation}\n",
    "\n",
    "Which can be written with ladder operators as:\n",
    "\\begin{equation}\n",
    "H=\\omega\\left(a^{\\dagger} a+\\frac{1}{2}\\right)-\\frac{C_{\\mathrm{d}}}{C_{\\Sigma}} V_d(t) i Q_{\\mathrm{zpf}}\\left(a-a^{\\dagger}\\right)\n",
    "\\end{equation}\n",
    "where we have used that $\\hat{Q} = -iQ_{ZPF}(a - a^\\dagger)$ like the momentum in the ordinary harmonic oscillator."
   ]
  },
  {
   "cell_type": "markdown",
   "metadata": {},
   "source": [
    "We want to have a computational basis with three energies, such that $\\omega_0 = 0; \\omega_{10} = \\omega$ and $\\omega_{21} = \\omega - \\alpha$, where $\\hbar = 1$ and $\\alpha$ is the anharmonicity. "
   ]
  },
  {
   "cell_type": "markdown",
   "metadata": {},
   "source": []
  }
 ],
 "metadata": {
  "kernelspec": {
   "display_name": "Python 3.9.13 ('qi')",
   "language": "python",
   "name": "python3"
  },
  "language_info": {
   "name": "python",
   "version": "3.9.13"
  },
  "orig_nbformat": 4,
  "vscode": {
   "interpreter": {
    "hash": "f6c6af7a5d17802718a1b9014d8fd6327bae134bc0eef148071f896cc5d034f6"
   }
  }
 },
 "nbformat": 4,
 "nbformat_minor": 2
}
