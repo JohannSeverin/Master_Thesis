{
 "cells": [
  {
   "cell_type": "code",
   "execution_count": 1,
   "metadata": {},
   "outputs": [],
   "source": [
    "# Imports\n",
    "import numpy as np\n",
    "import matplotlib.pyplot as plt\n",
    "import sys\n",
    "\n",
    "plt.style.use(\"../matplotlib_style/standard_plot_style.mplstyle\")\n",
    "\n",
    "import qutip\n",
    "\n",
    "%matplotlib inline\n",
    "\n",
    "save_figures = False\n",
    "save_path    = \"/mnt/c/Users/johan/OneDrive/Skrivebord/Master_Thesis/Figs/Dispersive_Simulations\"\n",
    "\n",
    "sys.path.append(\"../utils\")\n"
   ]
  },
  {
   "cell_type": "code",
   "execution_count": 2,
   "metadata": {},
   "outputs": [],
   "source": [
    "simulation_steps = 2001\n",
    "\n",
    "# Setup Qubit, Resonator and Coupling\n",
    "n_cutoff    = 15\n",
    "EJ          = 15     * 2 * np.pi # h GHz\n",
    "EC          = EJ / 25\n",
    "\n",
    "resonator_states        = 20\n",
    "resonator_frequency     = 6.02 * 2 * np.pi    \n",
    "\n",
    "coupling_strength       = 0.250 * 2 * np.pi\n",
    "\n",
    "\n",
    "# Setup drive\n",
    "drive_amplitude        = 0.020\n",
    "driving_time           = (0, 250)\n",
    "drive_function         = lambda t, args: drive_amplitude * np.cos(args[\"driving_frequency\"] * t)\n",
    "\n",
    "\n",
    "# Loss parameters:\n",
    "# Setup the qubit decay\n",
    "rate_qubit_decay  = 1 / 500\n",
    "rate_qubit_excite = 1 / 1000\n",
    "rate_reso = 1 / 1000\n",
    "\n",
    "\n",
    "# driving_frequencies_to_scan = 2 * np.pi * np.linspace(*scan_range, resolution)\n",
    "\n",
    "# Define Qubit object\n",
    "import components as comp\n",
    "qubit = comp.Transmon(\n",
    "    EC = EC,\n",
    "    EJ = EJ,\n",
    "    basis = \"charge\",\n",
    "    n_cutoff = n_cutoff\n",
    ")\n",
    "# Define resonator operators\n",
    "from qutip import destroy\n",
    "a       = destroy(resonator_states)\n",
    "a_dag   = a.dag()"
   ]
  },
  {
   "cell_type": "code",
   "execution_count": 3,
   "metadata": {},
   "outputs": [],
   "source": [
    "qubit_states = 3\n",
    "\n",
    "# Get Qubit operators for the two level qubit\n",
    "H_qubit, jump_matrix = qubit.lowest_k_eigenstates(k = qubit_states)"
   ]
  },
  {
   "cell_type": "code",
   "execution_count": 4,
   "metadata": {},
   "outputs": [
    {
     "name": "stdout",
     "output_type": "stream",
     "text": [
      "omega_01 \t= 7.834 GHz\n",
      "omega_12 \t= 7.050 GHz\n",
      "omega_02 \t= 14.884 GHz\n",
      "omega_r \t= 6.020 GHz\n",
      "omega_r_tilde \t= 6.012 GHz\n",
      "coupling_strength \t= 0.250 GHz\n",
      "dispersive_shift \t= 2.600 MHz\n",
      "drive_amplitude \t= 20.000 MHz\n",
      "driving_time \t= 250 ns\n",
      "rate_qubit_decay \t= 2.000 MHz\n",
      "rate_qubit_excite \t= 1.000 MHz\n",
      "rate_reso \t= 1.000 MHz\n"
     ]
    }
   ],
   "source": [
    "# Calculate all types of constants, which is useful for further analysis:\n",
    "omega_01 = H_qubit.diag()[1] - H_qubit.diag()[0]\n",
    "omega_02 = H_qubit.diag()[2] - H_qubit.diag()[0]\n",
    "omega_12 = H_qubit.diag()[2] - H_qubit.diag()[1]\n",
    "\n",
    "# Calculate the dispersive shifts\n",
    "# Multi qubit shifts\n",
    "g_squared_matrix = coupling_strength ** 2 * abs(jump_matrix.full()) ** 2\n",
    "omega_ij_matrix = np.expand_dims(H_qubit.diag(), 1) - np.expand_dims(H_qubit.diag(), 0)\n",
    "omega_r = resonator_frequency\n",
    "\n",
    "# The Chi-matrix\n",
    "chi_matrix = g_squared_matrix * (1 / (omega_ij_matrix - omega_r) + 1 / (omega_ij_matrix + omega_r)) \n",
    "\n",
    "# The dis\n",
    "dispersive_shifts = chi_matrix.sum(axis = 1) / 2 / np.pi\n",
    "\n",
    "\n",
    "# Omega resonator for qubits\n",
    "omega_resonator_qubit = resonator_frequency + dispersive_shifts\n",
    "\n",
    "\n",
    "\n",
    "# Information to print:\n",
    "printing_dict = {\n",
    "    \"omega_01\" : f\"{omega_01 / 2 / np.pi:.3f} GHz\",\n",
    "    \"omega_12\" : f\"{omega_12 / 2 / np.pi:.3f} GHz\",\n",
    "    \"omega_02\" : f\"{omega_02 / 2 / np.pi:.3f} GHz\",\n",
    "    \"omega_r\"  : f\"{resonator_frequency / 2 / np.pi:.3f} GHz\",\n",
    "    \"omega_r_tilde\": f\"{np.mean(omega_resonator_qubit[:2]) / 2 / np.pi:.3f} GHz\",\n",
    "    \"coupling_strength\": f\"{coupling_strength / 2 / np.pi:.3f} GHz\",\n",
    "    \"dispersive_shift\": f\"{(dispersive_shifts[0] - dispersive_shifts[1]) * 1000 / 2 / 2 / np.pi:.3f} MHz\",\n",
    "    \"drive_amplitude\": f\"{drive_amplitude * 1000:.3f} MHz\",\n",
    "    \"driving_time\": f\"{driving_time[1]} ns\",\n",
    "    \"rate_qubit_decay\": f\"{rate_qubit_decay * 1000:.3f} MHz\",\n",
    "    \"rate_qubit_excite\": f\"{rate_qubit_excite * 1000:.3f} MHz\",\n",
    "    \"rate_reso\": f\"{rate_reso * 1000:.3f} MHz\",\n",
    "}\n",
    "\n",
    "printing_dict_symbolic = {\n",
    "    r\"\\omega_{01}\" : f\"{omega_01 / 2 / np.pi:.3f} GHz\",\n",
    "    r\"\\omega_{12}\" : f\"{omega_12 / 2 / np.pi:.3f} GHz\",\n",
    "    r\"\\omega_{02}\" : f\"{omega_02 / 2 / np.pi:.3f} GHz\",\n",
    "    r\"\\omega_r\"  : f\"{resonator_frequency / 2 / np.pi:.3f} GHz\",\n",
    "    r\"\\tilde{\\omega_r}\": f\"{np.mean(omega_resonator_qubit[:2]) / 2 / np.pi:.3f} GHz\",\n",
    "    r\"g\" : f\"{coupling_strength / 2 / np.pi:.3f} GHz\",\n",
    "    r\"\\chi\" : f\"{(dispersive_shifts[0] - dispersive_shifts[1]) * 1000 / 2 / 2 / np.pi:.3f} MHz\",\n",
    "    r\"A\" : f\"{drive_amplitude * 1000:.3f} MHz\",\n",
    "    r\"T\" : f\"{driving_time[1]} ns\",\n",
    "    r\"\\Gamma_q\" : f\"{rate_qubit_decay * 1000:.3f} MHz\",\n",
    "    r\"\\Gamma_e\" : f\"{rate_qubit_excite * 1000:.3f} MHz\",\n",
    "    r\"\\Gamma_r\" : f\"{rate_reso * 1000:.3f} MHz\",\n",
    "}\n",
    "\n",
    "variable_dict = {\n",
    "    \"omega_01\" : omega_01,\n",
    "    \"omega_12\" : omega_12,\n",
    "    \"omega_02\" : omega_02,\n",
    "    \"omega_r\"  : resonator_frequency,\n",
    "    \"omega_r_tilde\": np.mean(omega_resonator_qubit[:2]),\n",
    "    \"coupling_strength\": coupling_strength,\n",
    "    \"dispersive_shift\": (dispersive_shifts[0] - dispersive_shifts[1]),\n",
    "}\n",
    "\n",
    "for key, value in printing_dict.items():\n",
    "    print(f\"{key} \\t= {value}\")"
   ]
  },
  {
   "attachments": {},
   "cell_type": "markdown",
   "metadata": {},
   "source": [
    "For now, we will just consider the dispersive approximation where the Hamiltonian is not time dependent in this basis:"
   ]
  },
  {
   "attachments": {},
   "cell_type": "markdown",
   "metadata": {},
   "source": [
    "### Simulation for the Dispersive Limit Hamiltonian\n",
    "Non interacting:  \n",
    "\n",
    "$H_{eff} = (\\omega_r - \\omega_d  + \\sum_k \\chi_k \\ket{k}\\ket{k} ) a^\\dagger a$\n",
    "\n",
    "Driving\n",
    "\n",
    "$H_{d, eff} = \\epsilon (a^\\dagger + a)$"
   ]
  },
  {
   "cell_type": "code",
   "execution_count": 5,
   "metadata": {},
   "outputs": [],
   "source": [
    "from qutip import tensor, basis, ket2dm\n",
    "from tqdm import tqdm\n",
    "\n",
    "# We can now define the Hamiltonian:\n",
    "def get_Hamiltonian(drive_frequency):\n",
    "    H_res   = (omega_r - drive_frequency) * tensor(qutip.qeye(qubit_states), a_dag * a)\n",
    "\n",
    "    H_disp  = tensor(qutip.Qobj(np.diag(dispersive_shifts)), a_dag * a)\n",
    "\n",
    "    H_drive = drive_amplitude * tensor(qutip.qeye(qubit_states), a_dag + a)\n",
    "\n",
    "    return H_res + H_disp + H_drive\n"
   ]
  },
  {
   "attachments": {},
   "cell_type": "markdown",
   "metadata": {},
   "source": [
    "Now we setup the different parameters to watch in the simulation:"
   ]
  },
  {
   "cell_type": "code",
   "execution_count": 6,
   "metadata": {},
   "outputs": [],
   "source": [
    "# We want expectation values of the following operators throughout the simulation:\n",
    "I = a + a_dag\n",
    "Q = 1j * (a_dag - a)\n",
    "n = a_dag * a\n",
    "\n",
    "exp_value_operators = [I, Q, n]\n",
    "from qutip import ptrace, expect\n",
    "# exp_value_operators = [lambda t, state: expect(op, ptrace(state, 1)) for op in exp_value_operators]\n",
    "def exp_values(t, state):\n",
    "    reso_state = ptrace(state, 1)\n",
    "    exp_vals   = [expect(op, reso_state) for op in exp_value_operators]\n",
    "    return exp_vals\n",
    "\n",
    "# We choose to drive it resonant to the qubit_0 frequency\n",
    "drive_frequency = omega_resonator_qubit[0] / 2 + omega_resonator_qubit[1]  / 2 # variable_dict[\"omega_r_tilde\"]\n",
    "hamiltonian = get_Hamiltonian(drive_frequency)\n",
    "\n"
   ]
  },
  {
   "attachments": {},
   "cell_type": "markdown",
   "metadata": {},
   "source": [
    "## Setup collapse operators and decay rates"
   ]
  },
  {
   "attachments": {},
   "cell_type": "markdown",
   "metadata": {},
   "source": [
    "First we just setup the qubit decay. $\\ket{1} \\to \\ket{0}$. This happens with a rate $\\Gamma_1 = \\frac{1}{T_1}$.\n",
    "\n",
    "The corresponding Lindblad operator is $\\ket{0}\\bra{1}$. And of course nothing happens on the resonator:"
   ]
  },
  {
   "cell_type": "code",
   "execution_count": 7,
   "metadata": {},
   "outputs": [],
   "source": [
    "qubit_decay_matrix = np.zeros((qubit_states, qubit_states))\n",
    "qubit_decay_matrix[0, 1] = 1\n",
    "\n",
    "qubit_decay = np.sqrt(rate_qubit_decay) * tensor(qutip.Qobj(qubit_decay_matrix), qutip.qeye(resonator_states))\n",
    "qubit_excitation = np.sqrt(rate_qubit_excite) * tensor(qutip.Qobj(qubit_decay_matrix.T), qutip.qeye(resonator_states))\n",
    "\n",
    "\n",
    "# Setup the resonator decay\n",
    "\n",
    "reso_decay = np.sqrt(rate_reso) * tensor(qutip.qeye(qubit_states), a)\n",
    "\n",
    "\n",
    "decays = [qubit_decay, qubit_excitation, reso_decay]"
   ]
  },
  {
   "attachments": {},
   "cell_type": "markdown",
   "metadata": {},
   "source": [
    "## Run the Simulation"
   ]
  },
  {
   "cell_type": "code",
   "execution_count": 8,
   "metadata": {},
   "outputs": [
    {
     "name": "stdout",
     "output_type": "stream",
     "text": [
      "10.0%. Run time:   0.10s. Est. time left: 00:00:00:00\n",
      "20.0%. Run time:   0.19s. Est. time left: 00:00:00:00\n",
      "30.0%. Run time:   0.28s. Est. time left: 00:00:00:00\n",
      "40.0%. Run time:   0.38s. Est. time left: 00:00:00:00\n",
      "50.0%. Run time:   0.49s. Est. time left: 00:00:00:00\n",
      "60.0%. Run time:   0.59s. Est. time left: 00:00:00:00\n",
      "70.0%. Run time:   0.70s. Est. time left: 00:00:00:00\n",
      "80.0%. Run time:   0.80s. Est. time left: 00:00:00:00\n",
      "90.0%. Run time:   0.91s. Est. time left: 00:00:00:00\n",
      "Total run time:   1.01s\n",
      "10.0%. Run time:   0.11s. Est. time left: 00:00:00:01\n",
      "20.0%. Run time:   0.21s. Est. time left: 00:00:00:00\n",
      "30.0%. Run time:   0.29s. Est. time left: 00:00:00:00\n",
      "40.0%. Run time:   0.37s. Est. time left: 00:00:00:00\n",
      "50.0%. Run time:   0.46s. Est. time left: 00:00:00:00\n",
      "60.0%. Run time:   0.54s. Est. time left: 00:00:00:00\n",
      "70.0%. Run time:   0.62s. Est. time left: 00:00:00:00\n",
      "80.0%. Run time:   0.72s. Est. time left: 00:00:00:00\n",
      "90.0%. Run time:   0.81s. Est. time left: 00:00:00:00\n",
      "Total run time:   0.89s\n"
     ]
    }
   ],
   "source": [
    "# And simply start in the intial state\n",
    "initial_qubit = basis(qubit_states, 0)\n",
    "initial_resonator = basis(resonator_states, 0)\n",
    "initial_state = ket2dm(tensor(initial_qubit, initial_resonator))\n",
    "\n",
    "# We can now simulate the system\n",
    "from qutip import mesolve, Options\n",
    "result_0 = mesolve(\n",
    "    hamiltonian,\n",
    "    initial_state,\n",
    "    np.linspace(*driving_time, simulation_steps),\n",
    "    c_ops = decays,\n",
    "    e_ops = exp_values,\n",
    "    options = Options(store_states = True),\n",
    "    progress_bar = True\n",
    ")\n",
    "\n",
    "exp_values_from_simulation_0 = np.array(result_0.expect)\n",
    "\n",
    "# Do the same for first excited state\n",
    "initial_qubit = basis(qubit_states, 1)\n",
    "initial_resonator = basis(resonator_states, 0)\n",
    "initial_state = ket2dm(tensor(initial_qubit, initial_resonator))\n",
    "\n",
    "result_1 = mesolve(\n",
    "    hamiltonian,\n",
    "    initial_state,\n",
    "    np.linspace(*driving_time, simulation_steps),\n",
    "    c_ops = decays,\n",
    "    e_ops = exp_values,\n",
    "    options = Options(store_states = True),\n",
    "    progress_bar = True\n",
    ")\n",
    "\n",
    "exp_values_from_simulation_1 = np.array(result_1.expect)"
   ]
  },
  {
   "attachments": {},
   "cell_type": "markdown",
   "metadata": {},
   "source": [
    "## Plotting the Results"
   ]
  },
  {
   "cell_type": "code",
   "execution_count": 9,
   "metadata": {},
   "outputs": [],
   "source": [
    "xvec = yvec = np.linspace(-5, 5, 100)\n",
    "\n",
    "from qutip import QFunc\n",
    "qfunc = QFunc(xvec, yvec)"
   ]
  },
  {
   "cell_type": "code",
   "execution_count": 10,
   "metadata": {},
   "outputs": [],
   "source": [
    "from matplotlib.colors import LinearSegmentedColormap\n",
    "cmap_0 = LinearSegmentedColormap.from_list(\"mycmap\", [\"white\", \"C0\"])\n",
    "cmap_1 = LinearSegmentedColormap.from_list(\"mycmap\", [\"white\", \"C1\"])\n",
    "\n",
    "printing_dict_symbolic[r\"\\epsilon\"] = f\"{drive_amplitude * 1000:.3f} MHz\"\n",
    "printing_dict_symbolic[r\"\\omega_{drive}\"] = f\"{drive_frequency / 2 / np.pi:.3f} GHz\"\n",
    "\n",
    "written_out = [f\"${key} \\t= {value}$\" for key, value in printing_dict_symbolic.items()]\n",
    "text_to_print = \"\\n\".join(written_out)\n",
    "\n",
    "def segment_sum(data, segment_ids, reso = 100):\n",
    "    data = np.asarray(data)\n",
    "    s = np.zeros((reso), dtype=data.dtype)\n",
    "    np.add.at(s, segment_ids, data)\n",
    "    return s\n"
   ]
  },
  {
   "cell_type": "code",
   "execution_count": 11,
   "metadata": {},
   "outputs": [
    {
     "data": {
      "application/vnd.jupyter.widget-view+json": {
       "model_id": "bcc72497d5944c2eb87ebba37fce0bea",
       "version_major": 2,
       "version_minor": 0
      },
      "text/plain": [
       "interactive(children=(IntSlider(value=124, description='time', max=249), Output()), _dom_classes=('widget-inte…"
      ]
     },
     "metadata": {},
     "output_type": "display_data"
    },
    {
     "data": {
      "text/plain": [
       "<function __main__.inspect_results(time)>"
      ]
     },
     "execution_count": 11,
     "metadata": {},
     "output_type": "execute_result"
    }
   ],
   "source": [
    "from matplotlib.gridspec import GridSpec\n",
    "from matplotlib.lines import Line2D\n",
    "\n",
    "\n",
    "def inspect_results(time):\n",
    "    time_idx = int(time / (driving_time[1] - driving_time[0]) * simulation_steps)\n",
    "\n",
    "    fig = plt.figure(figsize = (12, 12))\n",
    "    gs  = GridSpec(3, 3, figure = fig)\n",
    "\n",
    "    ax0 = fig.add_subplot(gs[0, :2])\n",
    "    ax0.plot(result_0.times, exp_values_from_simulation_0[:, 2])\n",
    "    ax0.plot(result_1.times, exp_values_from_simulation_1[:, 2])\n",
    "    ax0.set(\n",
    "        xlabel = \"Time [ns]\",\n",
    "        ylabel = \"Occupation number\",\n",
    "        title = \"Occupation of the Resonator\"\n",
    "    )\n",
    "    ax0.vlines(time, *ax0.get_ylim(), color = \"gray\", ls = \"--\")\n",
    "\n",
    "    ax1 = fig.add_subplot(gs[0, 2])\n",
    "    ax1.plot(exp_values_from_simulation_0[:, 0], exp_values_from_simulation_0[:, 1], ls = \"--\", alpha = 0.5, label = \"I(t), Q(t)\" )\n",
    "    ax1.plot(exp_values_from_simulation_1[:, 0], exp_values_from_simulation_1[:, 1], ls = \"--\", alpha = 0.5)\n",
    "\n",
    "    mark_every = 50 # ns\n",
    "    mark_every_idx = int(mark_every / (driving_time[1] - driving_time[0]) * simulation_steps)\n",
    "\n",
    "    ax1.scatter(exp_values_from_simulation_0[time_idx, 0], exp_values_from_simulation_0[time_idx, 1], marker = \"x\", color = \"gray\", s = 200)\n",
    "    ax1.scatter(exp_values_from_simulation_1[time_idx, 0], exp_values_from_simulation_1[time_idx, 1], marker = \"x\", color = \"gray\", s = 200)\n",
    "\n",
    "    ax1.set(\n",
    "        xlabel = \"<I>\",\n",
    "        ylabel = \"<Q>\",\n",
    "        title = \"I-Q plot of resonator\",\n",
    "        xlim = (xvec[0], xvec[-1]),\n",
    "        ylim = (yvec[0], yvec[-1])\n",
    "\n",
    "    )\n",
    "\n",
    "\n",
    "    ax2 = fig.add_subplot(gs[1:, :2])\n",
    "\n",
    "    ax2.contour(qfunc(ptrace(result_0.states[time_idx], 1)), extent = [xvec[0], xvec[-1], yvec[0], yvec[-1]], origin = \"lower\", cmap = cmap_0, alpha = 0.7)\n",
    "    ax2.contour(qfunc(ptrace(result_1.states[time_idx], 1)), extent = [xvec[0], xvec[-1], yvec[0], yvec[-1]], origin = \"lower\", cmap = cmap_1, alpha = 0.7)\n",
    "    ax2.set(\n",
    "        xlabel = r\"$Re(\\alpha)$\",\n",
    "        ylabel = r\"$Im(\\alpha)$\",\n",
    "        title = \"Q-function of Resonator\"\n",
    "    )\n",
    "\n",
    "    ax3 = fig.add_subplot(gs[1:, 2])\n",
    "\n",
    "    X, Y = np.meshgrid(xvec, yvec)\n",
    "    q_0, q_1 = qfunc(ptrace(result_0.states[time_idx], 1)), qfunc(ptrace(result_1.states[time_idx], 1))\n",
    "    \n",
    "    means_0 = np.array((np.sum(X * q_0) / np.sum(q_0), np.sum(Y * q_0) / np.sum(q_0)))\n",
    "    means_1 = np.array((np.sum(X * q_1) / np.sum(q_1), np.sum(Y * q_1) / np.sum(q_1)))\n",
    "\n",
    "    vects   = means_0 - means_1\n",
    "    if vects[0] != 0 and vects[1] != 0:\n",
    "        vects  /= np.linalg.norm(vects)\n",
    "\n",
    "        coordinates_on_primary_axis = vects[0] * X + vects[1] * Y\n",
    "        \n",
    "        x_primes = np.linspace(coordinates_on_primary_axis.min(), coordinates_on_primary_axis.max(), 100)\n",
    "        binwidth = x_primes[1] - x_primes[0]\n",
    "\n",
    "        idxs = coordinates_on_primary_axis.flatten() / binwidth\n",
    "        idxs = (idxs - idxs.min()).astype(int)\n",
    "\n",
    "        density_on_primary_axis_0 = segment_sum(q_0.flatten(), idxs) / binwidth\n",
    "        density_on_primary_axis_1 = segment_sum(q_1.flatten(), idxs) / binwidth\n",
    "\n",
    "        ax3.plot(density_on_primary_axis_0, x_primes)\n",
    "        ax3.plot(density_on_primary_axis_1, x_primes)\n",
    "\n",
    "        ax3.set(\n",
    "            xlabel = \"Projected Q-func\",\n",
    "            ylabel = \"Coordinate on primary axis\",\n",
    "            title  = \"Q-Function Projection\"\n",
    "        )\n",
    "\n",
    "    \n",
    "        line_xs = np.linspace(*ax2.get_xlim(), 100)\n",
    "        line_ys = (line_xs -  means_0[0]) * vects[1] / vects[0] +  means_0[1]\n",
    "\n",
    "        ax2.plot(line_xs, line_ys, color = \"gray\", ls = \"-.\")\n",
    "        ax2.scatter(means_0[0], means_0[1], marker = \"x\", color = \"C0\", s = 200)\n",
    "        ax2.scatter(means_1[0], means_1[1], marker = \"x\", color = \"C1\", s = 200)\n",
    "\n",
    "    # fig.text(0.75, 0.4, text_to_print)\n",
    "\n",
    "    legend_lines = [Line2D([0], [0], color = \"C0\", lw = 4), Line2D([0], [0], color = \"C1\", lw = 4)]\n",
    "    ax0.legend(legend_lines, [r\"$|0\\rangle$\", r\"$|1\\rangle$\"], loc = \"upper left\", ncol = 1)#, bbox_to_anchor = (0.5, 0.05))\n",
    "\n",
    "    fig.tight_layout()\n",
    "\n",
    "\n",
    "\n",
    "from ipywidgets import interact\n",
    "interact(inspect_results, time = (0, driving_time[1] - 1, 1))"
   ]
  },
  {
   "attachments": {},
   "cell_type": "markdown",
   "metadata": {},
   "source": [
    "# Sampling Q-I points from a density matrix using Q-function"
   ]
  },
  {
   "cell_type": "code",
   "execution_count": 12,
   "metadata": {},
   "outputs": [],
   "source": [
    "from scipy.special import factorial \n",
    "def Q_of_rho(rho, x, y):\n",
    "    rho = rho.ptrace(1).full()\n",
    "    n_cutoff = rho.shape[0]\n",
    "\n",
    "    alphas = x + 1j * y\n",
    "    alphas *= 1 / np.sqrt(2)\n",
    "\n",
    "    normalization = np.exp(- alphas * alphas.conj() / 2)\n",
    "\n",
    "    # Basis change\n",
    "    ns = np.expand_dims(np.arange(n_cutoff), 1)\n",
    "    P  = normalization * np.power(alphas, ns) / np.sqrt(factorial(ns))\n",
    "\n",
    "    Q_output = 1 / np.pi * np.einsum(\"ij, jk, ki -> i\", P.T.conj(), rho, P)\n",
    "\n",
    "    return Q_output.real\n",
    "\n"
   ]
  },
  {
   "cell_type": "code",
   "execution_count": 13,
   "metadata": {},
   "outputs": [
    {
     "data": {
      "text/plain": [
       "97"
      ]
     },
     "execution_count": 13,
     "metadata": {},
     "output_type": "execute_result"
    },
    {
     "data": {
      "image/png": "[encoded data removed]",
      "text/plain": [
       "<Figure size 1200x800 with 1 Axes>"
      ]
     },
     "metadata": {},
     "output_type": "display_data"
    }
   ],
   "source": [
    "# We set up the bounds and find the max value\n",
    "xlim = ylim = (-4, 4)\n",
    "\n",
    "from scipy.optimize import minimize\n",
    "minimize_result = minimize(lambda x: - Q_of_rho(result_0.states[-1], x[0], x[1]), [0, 0])\n",
    "max_bound = - 1.05 * minimize_result.fun\n",
    "\n",
    "# Now we can generate hit-miss samples\n",
    "n_samples = 1000\n",
    "x_sample = np.random.uniform(*xlim, n_samples)\n",
    "y_sample = np.random.uniform(*ylim, n_samples)\n",
    "p_sample = np.random.uniform(0, max_bound, n_samples)\n",
    "\n",
    "# Generate true vals of x and y\n",
    "p_calculated = Q_of_rho(result_0.states[-1], x_sample, y_sample)\n",
    "\n",
    "# Mask from the hit-n-miss\n",
    "mask = p_sample < p_calculated\n",
    "\n",
    "\n",
    "# Q func \n",
    "xvec = yvec = np.linspace(*xlim, 100)\n",
    "X, Y = np.meshgrid(xvec, yvec)\n",
    "q_0 = qfunc(ptrace(result_0.states[-1], 1))\n",
    "q_0_own = Q_of_rho(result_0.states[-1], X.flatten(), Y.flatten()).reshape(X.shape)\n",
    "\n",
    "plt.imshow(q_0, extent = [xvec[0], xvec[-1], yvec[0], yvec[-1]], origin = \"lower\", cmap = cmap_0)\n",
    "\n",
    "\n",
    "plt.scatter(x_sample[mask], y_sample[mask], marker = \"x\", color = \"black\", alpha = 0.5)\n",
    "\n",
    "np.sum(mask)"
   ]
  },
  {
   "cell_type": "code",
   "execution_count": null,
   "metadata": {},
   "outputs": [],
   "source": []
  }
 ],
 "metadata": {
  "kernelspec": {
   "display_name": "qi",
   "language": "python",
   "name": "python3"
  },
  "language_info": {
   "codemirror_mode": {
    "name": "ipython",
    "version": 3
   },
   "file_extension": ".py",
   "mimetype": "text/x-python",
   "name": "python",
   "nbconvert_exporter": "python",
   "pygments_lexer": "ipython3",
   "version": "3.9.13"
  },
  "orig_nbformat": 4,
  "vscode": {
   "interpreter": {
    "hash": "f6c6af7a5d17802718a1b9014d8fd6327bae134bc0eef148071f896cc5d034f6"
   }
  }
 },
 "nbformat": 4,
 "nbformat_minor": 2
}
