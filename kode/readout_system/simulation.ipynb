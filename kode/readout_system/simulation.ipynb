{
 "cells": [
  {
   "cell_type": "code",
   "execution_count": 58,
   "metadata": {},
   "outputs": [],
   "source": [
    "import numpy as np\n",
    "import matplotlib.pyplot as plt \n",
    "\n",
    "import importlib\n",
    "\n",
    "import components as comp\n",
    "importlib.reload(comp);"
   ]
  },
  {
   "cell_type": "code",
   "execution_count": 59,
   "metadata": {},
   "outputs": [],
   "source": [
    "### Parameters\n",
    "computational_states    = 3\n",
    "resonator_states        = 20\n",
    "\n",
    "\n",
    "# Define the components, which are defined in components.py\n",
    "\n",
    "# The superconducting qubit\n",
    "transmon = comp.Transmon(\n",
    "    n_cutoff        = 11,\n",
    "    e               = 1.519e6,              # GHz / V\n",
    "    EJ              = 34,                   # GHz hbar\n",
    "    EJ_EC_ratio     = 128,                  # Gives EC = EJ / ratio\n",
    "    # gamma           = 2.5                 # EJ2 / EJ1    \n",
    ")\n",
    "\n",
    "# Resonator for readout\n",
    "resonator = comp.Resonator(\n",
    "    omega           = 6.02,                 # GHz\n",
    "    n_cutoff        = resonator_states      # States of harmonic oscillator\n",
    ")\n"
   ]
  },
  {
   "cell_type": "markdown",
   "metadata": {},
   "source": [
    "## Defining Hamiltonians\n",
    "We can now define the hamiltonians of the system:"
   ]
  },
  {
   "cell_type": "code",
   "execution_count": 60,
   "metadata": {},
   "outputs": [],
   "source": [
    "# Find subspace of Transmon\n",
    "Es, Psis = transmon.eigen_basis(computational_states)   # Get states and energies for transmon\n",
    "H0_transmon = np.diag(Es - Es[0])                       # Set E0 = 0\n",
    "\n",
    "\n",
    "# H0 of the resonator is simply found by:\n",
    "H0_resonator    = resonator.Hamiltonian().todense()\n",
    "\n",
    "\n",
    "# We need to define mathematical tools to combine the system\n",
    "transmon_identity   = np.identity(n = computational_states)\n",
    "resonator_identity  = np.identity(n = resonator_states)\n",
    "\n",
    "# Combine the Hamiltonians by tensor product \n",
    "H0_transmon_big  = np.kron(H0_transmon,         resonator_identity)\n",
    "H0_resonator_big = np.kron(transmon_identity,   H0_resonator)\n",
    "\n",
    "# Sum to get full H0 in 3 x 20 space\n",
    "H0 = H0_transmon_big + H0_resonator_big\n"
   ]
  },
  {
   "cell_type": "code",
   "execution_count": 61,
   "metadata": {},
   "outputs": [
    {
     "data": {
      "text/plain": [
       "<matplotlib.image.AxesImage at 0x7f647afb22e0>"
      ]
     },
     "execution_count": 61,
     "metadata": {},
     "output_type": "execute_result"
    },
    {
     "data": {
      "image/png": "[encoded data removed]",
      "text/plain": [
       "<Figure size 432x288 with 1 Axes>"
      ]
     },
     "metadata": {
      "needs_background": "light"
     },
     "output_type": "display_data"
    }
   ],
   "source": [
    "# Transmon interaction\n",
    "H_overlap_n = np.conjugate(Psis).T @ transmon.n_matrix() @ Psis\n",
    "\n",
    "#### NEED MORE THEORY TO DEFINE THIS INTERACTION TERM #### \n",
    "# Now we just assume g_k = 1. Probably we take the overlap between them.\n",
    "H_int_resonator = (resonator.a_dagger() + resonator.a()).todense()\n",
    "\n",
    "# Direct product to get it in 3 x 20 hilbert space\n",
    "H_int = np.kron(H_overlap_n, H_int_resonator)\n",
    "\n",
    "\n",
    "plt.imshow(H_int)"
   ]
  },
  {
   "cell_type": "markdown",
   "metadata": {},
   "source": [
    "## Interaction Eigenvalues "
   ]
  },
  {
   "cell_type": "code",
   "execution_count": 65,
   "metadata": {},
   "outputs": [],
   "source": [
    "interaction_strength = 0.130 # GHz \n",
    "\n",
    "H = H0 + 0.130 *  H_int"
   ]
  },
  {
   "cell_type": "code",
   "execution_count": null,
   "metadata": {},
   "outputs": [],
   "source": []
  }
 ],
 "metadata": {
  "kernelspec": {
   "display_name": "Python 3.9.12 ('base')",
   "language": "python",
   "name": "python3"
  },
  "language_info": {
   "codemirror_mode": {
    "name": "ipython",
    "version": 3
   },
   "file_extension": ".py",
   "mimetype": "text/x-python",
   "name": "python",
   "nbconvert_exporter": "python",
   "pygments_lexer": "ipython3",
   "version": "3.9.12"
  },
  "orig_nbformat": 4,
  "vscode": {
   "interpreter": {
    "hash": "379158a3113349903398c750ffc650db2b64bf6e1a7c8133030bc245dbb7ab77"
   }
  }
 },
 "nbformat": 4,
 "nbformat_minor": 2
}
