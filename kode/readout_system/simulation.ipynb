{
 "cells": [
  {
   "cell_type": "code",
   "execution_count": 2,
   "metadata": {},
   "outputs": [],
   "source": [
    "import numpy as np\n",
    "import matplotlib.pyplot as plt \n",
    "\n",
    "import importlib\n",
    "\n",
    "import components as comp\n",
    "importlib.reload(comp);\n",
    "\n",
    "import utils\n",
    "importlib.reload(utils);"
   ]
  },
  {
   "cell_type": "code",
   "execution_count": 3,
   "metadata": {},
   "outputs": [],
   "source": [
    "### Parameters\n",
    "computational_states    = 3\n",
    "resonator_states        = 10\n",
    "\n",
    "# System\n",
    "system = utils.System(dimensions = (resonator_states, computational_states))\n",
    "\n",
    "# Define the components, which are defined in components.py\n",
    "# The superconducting qubit\n",
    "transmon = comp.Transmon(\n",
    "    n_cutoff        = 11,\n",
    "    e               = 1.519e6,              # GHz / V\n",
    "    EJ              = 34,                   # GHz hbar\n",
    "    EJ_EC_ratio     = 128,                  # Gives EC = EJ / ratio\n",
    "    # gamma           = 2.5                 # EJ2 / EJ1    \n",
    ")\n",
    "\n",
    "# Resonator for readout\n",
    "resonator = comp.Resonator(\n",
    "    omega           = 6.02,                 # GHz\n",
    "    n_cutoff        = resonator_states      # States of harmonic oscillator\n",
    "    \n",
    ")\n",
    "\n",
    "# Readout pulse\n",
    "readout_pulse = comp.ResonatorProbePulse(\n",
    "    omega       = 6.02,\n",
    "    duration    = (20, 30),\n",
    "    rise_time   = 2,\n",
    "    fall_time   = 2,\n",
    "    amplitude   = 5 / 6.02 ** 2\n",
    ")\n"
   ]
  },
  {
   "cell_type": "code",
   "execution_count": 23,
   "metadata": {},
   "outputs": [],
   "source": []
  },
  {
   "cell_type": "markdown",
   "metadata": {},
   "source": [
    "## Defining Hamiltonians\n",
    "We can now define the hamiltonians of the system:"
   ]
  },
  {
   "cell_type": "code",
   "execution_count": 24,
   "metadata": {},
   "outputs": [],
   "source": [
    "# Find subspace of Transmon\n",
    "Es, Psis = transmon.eigen_basis(computational_states)   # Get states and energies for transmon\n",
    "H0_transmon = np.diag(Es - Es[0])                       # Set E0 = 0\n",
    "\n",
    "\n",
    "# H0 of the resonator is simply found by:\n",
    "H0_resonator    = resonator.Hamiltonian().todense()\n",
    "\n",
    "\n",
    "# We need to define mathematical tools to combine the system\n",
    "transmon_identity   = np.identity(n = computational_states)\n",
    "resonator_identity  = np.identity(n = resonator_states)\n",
    "\n",
    "\n",
    "# Combine the Hamiltonians by tensor product \n",
    "H0_transmon_big  = np.kron(resonator_identity,  H0_transmon)\n",
    "H0_resonator_big = np.kron(H0_resonator,        transmon_identity)\n",
    "\n",
    "# Sum to get full H0 in 3 x 20 space\n",
    "H0 = H0_transmon_big + H0_resonator_big\n"
   ]
  },
  {
   "cell_type": "code",
   "execution_count": 25,
   "metadata": {},
   "outputs": [
    {
     "data": {
      "text/plain": [
       "<matplotlib.image.AxesImage at 0x7fb9eba66520>"
      ]
     },
     "execution_count": 25,
     "metadata": {},
     "output_type": "execute_result"
    },
    {
     "data": {
      "image/png": "[encoded data removed]",
      "text/plain": [
       "<Figure size 640x480 with 1 Axes>"
      ]
     },
     "metadata": {},
     "output_type": "display_data"
    }
   ],
   "source": [
    "plt.imshow(H0)"
   ]
  },
  {
   "cell_type": "code",
   "execution_count": 26,
   "metadata": {},
   "outputs": [
    {
     "data": {
      "text/plain": [
       "<matplotlib.image.AxesImage at 0x7fb9eb9fcdf0>"
      ]
     },
     "execution_count": 26,
     "metadata": {},
     "output_type": "execute_result"
    },
    {
     "data": {
      "image/png": "[encoded data removed]",
      "text/plain": [
       "<Figure size 640x480 with 1 Axes>"
      ]
     },
     "metadata": {},
     "output_type": "display_data"
    }
   ],
   "source": [
    "# Overlap\n",
    "H_overlap_n = abs(np.conjugate(Psis).T @ transmon.n_matrix() @ Psis)\n",
    "\n",
    "# # Lower qubit raise resontaor\n",
    "# H_q_to_r = np.kron(resonator.a_dagger().todense(), np.tril(transmon_identity))\n",
    "# H_r_to_q = np.kron(resonator.a().todense(),        np.triu(transmon_identity))\n",
    "\n",
    "\n",
    "H_int = np.kron((resonator.a_dagger() + resonator.a()).todense(), H_overlap_n)\n",
    "\n",
    "\n",
    "# Transmon interaction\n",
    "# H_overlap_n = abs(np.conjugate(Psis).T @ transmon.n_matrix() @ Psis)\n",
    "\n",
    "#### NEED MORE THEORY TO DEFINE THIS INTERACTION TERM #### \n",
    "# Now we just assume g_k = 1. Probably we take the overlap between them.\n",
    "# H_int_resonator = (resonator.a_dagger() + resonator.a()).todense()\n",
    "\n",
    "# Direct product to get it in 3 x 20 hilbert space\n",
    "# H_int = np.kron(np.triu(H_int_resonator), np.tril(H_overlap_n)) + np.kron(np.tril(H_int_resonator), np.triu(H_overlap_n))\n",
    "\n",
    "\n",
    "plt.imshow(H_int)"
   ]
  },
  {
   "cell_type": "markdown",
   "metadata": {},
   "source": [
    "## Interaction Eigenvalues "
   ]
  },
  {
   "cell_type": "code",
   "execution_count": 27,
   "metadata": {},
   "outputs": [
    {
     "name": "stderr",
     "output_type": "stream",
     "text": [
      "/tmp/ipykernel_344/1958045196.py:4: RuntimeWarning: divide by zero encountered in log\n",
      "  plt.imshow(np.log(H_with_interaction))\n"
     ]
    },
    {
     "data": {
      "text/plain": [
       "<matplotlib.image.AxesImage at 0x7fb9eb9d4c10>"
      ]
     },
     "execution_count": 27,
     "metadata": {},
     "output_type": "execute_result"
    },
    {
     "data": {
      "image/png": "[encoded data removed]",
      "text/plain": [
       "<Figure size 640x480 with 1 Axes>"
      ]
     },
     "metadata": {},
     "output_type": "display_data"
    }
   ],
   "source": [
    "interaction_strength = .130 * 2 * np.pi # GHz \n",
    "\n",
    "H_with_interaction = H0 + interaction_strength *  H_int\n",
    "plt.imshow(np.log(H_with_interaction))"
   ]
  },
  {
   "attachments": {},
   "cell_type": "markdown",
   "metadata": {},
   "source": [
    "## Readout Drive"
   ]
  },
  {
   "cell_type": "code",
   "execution_count": 32,
   "metadata": {},
   "outputs": [],
   "source": [
    "\n",
    "# Define Hamilton with given frequency\n",
    "def get_Hamiltonian(omega):\n",
    "    # Define the resonator given a pulse frequency\n",
    "    readout_pulse = comp.ResonatorProbePulse(\n",
    "        omega       = omega,\n",
    "        duration    = (0, 50),\n",
    "        rise_time   = 2,\n",
    "        fall_time   = 2,\n",
    "        amplitude   = 1 / 10\n",
    "    )\n",
    "\n",
    "    # Get pulse and the Unitary transformation opposite to the pulse\n",
    "    pulse_on_resonator = readout_pulse.output()\n",
    "    U = readout_pulse.rotating_frame(dims = np.product(system.dimensions))\n",
    "\n",
    "    def Hamiltonian(t):\n",
    "        constant_H = H_with_interaction\n",
    "\n",
    "        # Define the pules and hamiltonian interacting with the resonator\n",
    "        total_pulse = pulse_on_resonator[0](t) + pulse_on_resonator[1](t) \n",
    "        H_reso      = 2j *  total_pulse * (resonator.a_dagger() - resonator.a())\n",
    "        H_reso_hilbert_space = np.kron(H_reso.todense(), transmon_identity)\n",
    "\n",
    "        return constant_H + H_reso_hilbert_space\n",
    "\n",
    "    return Hamiltonian, U\n",
    "\n",
    "\n",
    "def master_equation(t, y, hamiltonian, U):\n",
    "    # Get the hamiltonian and the unitary transformation\n",
    "    H = hamiltonian(t)\n",
    "    U = U(t)\n",
    "\n",
    "    H_rotating = H\n",
    "\n",
    "    rho = y.reshape((system.dimensions[0] * system.dimensions[1], system.dimensions[0] * system.dimensions[1]))\n",
    "\n",
    "    # Calculate the derivative of the density matrix\n",
    "    d_rho = -1j * (H_rotating @ rho - rho @ H_rotating.conj().T)\n",
    "\n",
    "    return d_rho.flatten()"
   ]
  },
  {
   "cell_type": "code",
   "execution_count": 33,
   "metadata": {},
   "outputs": [],
   "source": [
    "# Define the first excited state of the resonator\n",
    "resonator_g = np.zeros(resonator_states, dtype = np.complex128)\n",
    "resonator_g[0] = 1\n",
    "\n",
    "# Define ground state of transmon\n",
    "transmon_g = np.array((1, 0, 0), dtype = np.complex128)\n",
    "transmon_e = np.array((0, 1, 0), dtype = np.complex128)\n",
    "\n",
    "# Define initial density matrix\n",
    "initial_state_g = np.kron(resonator_g, transmon_g)\n",
    "initial_density_matrix_g = np.outer(initial_state_g, initial_state_g.conj())\n",
    "\n",
    "initial_state_e = np.kron(resonator_g, transmon_e)\n",
    "initial_density_matrix_e = np.outer(initial_state_e, initial_state_e.conj())"
   ]
  },
  {
   "cell_type": "code",
   "execution_count": 34,
   "metadata": {},
   "outputs": [
    {
     "name": "stdout",
     "output_type": "stream",
     "text": [
      "Simulating ground state\n"
     ]
    },
    {
     "name": "stderr",
     "output_type": "stream",
     "text": [
      "100%|██████████| 3/3 [00:26<00:00,  8.86s/it]\n"
     ]
    },
    {
     "name": "stdout",
     "output_type": "stream",
     "text": [
      "Simulating excited state\n"
     ]
    },
    {
     "name": "stderr",
     "output_type": "stream",
     "text": [
      "100%|██████████| 3/3 [00:28<00:00,  9.35s/it]\n"
     ]
    }
   ],
   "source": [
    "from numba import prange\n",
    "from tqdm import tqdm\n",
    "from scipy.integrate import solve_ivp\n",
    "from multiprocessing import Pool\n",
    "\n",
    "# Define the frequencies to test\n",
    "omegas_to_test = np.linspace(5.52, 6.52, 3)\n",
    "\n",
    "# Duration of Simulation\n",
    "duration = (0, 50)\n",
    "\n",
    "\n",
    "\n",
    "def simulate(omegas, initial_state):\n",
    "    results = []\n",
    "\n",
    "    for i in tqdm(range(len(omegas_to_test))):\n",
    "        omega = omegas_to_test[i]\n",
    "        \n",
    "        H, U = get_Hamiltonian(omega)\n",
    "        \n",
    "        sol = solve_ivp(master_equation, duration, initial_state.flatten(), args = (H, U), method = 'RK45')\n",
    "\n",
    "        results.append(sol)\n",
    "\n",
    "    return results\n",
    "\n",
    "print(\"Simulating ground state\")\n",
    "results_g = simulate(omegas_to_test, initial_density_matrix_g)\n",
    "\n",
    "print(\"Simulating excited state\")\n",
    "results_e = simulate(omegas_to_test, initial_density_matrix_e)"
   ]
  },
  {
   "cell_type": "code",
   "execution_count": 52,
   "metadata": {},
   "outputs": [],
   "source": [
    "from scipy.special import factorial\n",
    "\n",
    "def Q_function(density_matrix, n_cutoff = resonator_states, resolution = 20):\n",
    "    xs = ys = np.linspace(-n_cutoff, n_cutoff, resolution)\n",
    "    xs, ys = np.meshgrid(xs, ys)\n",
    "\n",
    "    # Calculate alphas\n",
    "    alphas = xs + 1j * ys\n",
    "    alphas = alphas.flatten()\n",
    "\n",
    "    # Noramlization\n",
    "    normalization = np.exp(- alphas * alphas.conj() / 2)\n",
    "\n",
    "    # Basis change\n",
    "    ns = np.expand_dims(np.arange(n_cutoff), 1)\n",
    "    U  = normalization * np.power(alphas, ns) / np.sqrt(factorial(ns))\n",
    "\n",
    "    return np.diag(U.conj().T @ density_matrix @ U).reshape((resolution, resolution))\n"
   ]
  },
  {
   "cell_type": "code",
   "execution_count": 53,
   "metadata": {},
   "outputs": [
    {
     "data": {
      "text/plain": [
       "(20, 20)"
      ]
     },
     "execution_count": 53,
     "metadata": {},
     "output_type": "execute_result"
    }
   ],
   "source": [
    "Q_function(last_reso_state).shape"
   ]
  },
  {
   "cell_type": "code",
   "execution_count": 60,
   "metadata": {},
   "outputs": [
    {
     "data": {
      "text/plain": [
       "2326"
      ]
     },
     "execution_count": 60,
     "metadata": {},
     "output_type": "execute_result"
    }
   ],
   "source": [
    "results_g[0].y.shape[-1]"
   ]
  },
  {
   "cell_type": "code",
   "execution_count": 66,
   "metadata": {},
   "outputs": [
    {
     "data": {
      "application/vnd.jupyter.widget-view+json": {
       "model_id": "2d7a9f51d3294ddd8907312f7cdce97d",
       "version_major": 2,
       "version_minor": 0
      },
      "text/plain": [
       "interactive(children=(IntSlider(value=1199, description='time', max=2399), Output()), _dom_classes=('widget-in…"
      ]
     },
     "metadata": {},
     "output_type": "display_data"
    },
    {
     "data": {
      "text/plain": [
       "<function __main__.plot_Q(time)>"
      ]
     },
     "execution_count": 66,
     "metadata": {},
     "output_type": "execute_result"
    }
   ],
   "source": [
    "def plot_Q(time):\n",
    "    results_e[1].y.shape\n",
    "\n",
    "    states = results_g[0].y.reshape(system.hilbert_size, system.hilbert_size, -1)\n",
    "    last_reso_state = system.partial_trace(states[:, :, time], 1)\n",
    "\n",
    "    plt.imshow(abs(Q_function(last_reso_state, resolution = 100)))\n",
    "\n",
    "from ipywidgets import interact\n",
    "interact(plot_Q, time = (0, results_e[0].y.shape[-1] - 1, 1))"
   ]
  },
  {
   "cell_type": "code",
   "execution_count": 67,
   "metadata": {},
   "outputs": [
    {
     "data": {
      "application/vnd.jupyter.widget-view+json": {
       "model_id": "48edee3958e6405baf632a6d1aee6f4b",
       "version_major": 2,
       "version_minor": 0
      },
      "text/plain": [
       "interactive(children=(IntSlider(value=1199, description='time', max=2399), Output()), _dom_classes=('widget-in…"
      ]
     },
     "metadata": {},
     "output_type": "display_data"
    },
    {
     "data": {
      "text/plain": [
       "<function __main__.plot_Q(time)>"
      ]
     },
     "execution_count": 67,
     "metadata": {},
     "output_type": "execute_result"
    }
   ],
   "source": [
    "def plot_Q(time):\n",
    "    results_g[1].y.shape\n",
    "\n",
    "    states = results_g[0].y.reshape(system.hilbert_size, system.hilbert_size, -1)\n",
    "    last_reso_state = system.partial_trace(states[:, :, time], 1)\n",
    "\n",
    "    plt.imshow(abs(Q_function(last_reso_state, resolution = 100)))\n",
    "\n",
    "from ipywidgets import interact\n",
    "interact(plot_Q, time = (0, results_e[0].y.shape[-1] - 1, 1))"
   ]
  },
  {
   "cell_type": "code",
   "execution_count": 304,
   "metadata": {},
   "outputs": [],
   "source": [
    "dims = np.prod(system.dimensions)\n",
    "def get_expectation_occupation(results):\n",
    "    rhos = [np.outer(ds.y[:, -1], ds.y[:, -1].conj) for ds in results]\n",
    "    # last_rho = [rho[:, :, -1] for rho in rhos]\n",
    "    last_rho_reso = [system.partial_trace(rho, trace_over = 1) for rho in rhos]\n",
    "    last_exp_n    = [np.trace(rho @ resonator.n_matrix()) for rho in last_rho_reso]\n",
    "\n",
    "    return last_exp_n\n",
    "\n",
    "exp_n_g = get_expectation_occupation(results_g)\n",
    "exp_n_e = get_expectation_occupation(results_e)\n"
   ]
  },
  {
   "cell_type": "code",
   "execution_count": 305,
   "metadata": {},
   "outputs": [
    {
     "ename": "ValueError",
     "evalue": "x and y can be no greater than 2D, but have shapes (7,) and (7, 3, 3)",
     "output_type": "error",
     "traceback": [
      "\u001b[0;31m---------------------------------------------------------------------------\u001b[0m",
      "\u001b[0;31mValueError\u001b[0m                                Traceback (most recent call last)",
      "\u001b[0;32m/tmp/ipykernel_274/1887792523.py\u001b[0m in \u001b[0;36m<module>\u001b[0;34m\u001b[0m\n\u001b[1;32m      1\u001b[0m \u001b[0mfig\u001b[0m\u001b[0;34m,\u001b[0m \u001b[0max\u001b[0m \u001b[0;34m=\u001b[0m \u001b[0mplt\u001b[0m\u001b[0;34m.\u001b[0m\u001b[0msubplots\u001b[0m\u001b[0;34m(\u001b[0m\u001b[0mfigsize\u001b[0m \u001b[0;34m=\u001b[0m \u001b[0;34m(\u001b[0m\u001b[0;36m10\u001b[0m\u001b[0;34m,\u001b[0m \u001b[0;36m6\u001b[0m\u001b[0;34m)\u001b[0m\u001b[0;34m)\u001b[0m\u001b[0;34m\u001b[0m\u001b[0;34m\u001b[0m\u001b[0m\n\u001b[1;32m      2\u001b[0m \u001b[0;34m\u001b[0m\u001b[0m\n\u001b[0;32m----> 3\u001b[0;31m \u001b[0mplt\u001b[0m\u001b[0;34m.\u001b[0m\u001b[0mplot\u001b[0m\u001b[0;34m(\u001b[0m\u001b[0momegas_to_test\u001b[0m\u001b[0;34m,\u001b[0m \u001b[0mexp_n_e\u001b[0m\u001b[0;34m,\u001b[0m \u001b[0mmarker\u001b[0m \u001b[0;34m=\u001b[0m \u001b[0;34m\"x\"\u001b[0m\u001b[0;34m,\u001b[0m \u001b[0mlabel\u001b[0m \u001b[0;34m=\u001b[0m \u001b[0;34m\"excited state\"\u001b[0m\u001b[0;34m)\u001b[0m\u001b[0;34m\u001b[0m\u001b[0;34m\u001b[0m\u001b[0m\n\u001b[0m\u001b[1;32m      4\u001b[0m \u001b[0mplt\u001b[0m\u001b[0;34m.\u001b[0m\u001b[0mplot\u001b[0m\u001b[0;34m(\u001b[0m\u001b[0momegas_to_test\u001b[0m\u001b[0;34m,\u001b[0m \u001b[0mexp_n_g\u001b[0m\u001b[0;34m,\u001b[0m \u001b[0mmarker\u001b[0m \u001b[0;34m=\u001b[0m \u001b[0;34m\"x\"\u001b[0m\u001b[0;34m,\u001b[0m \u001b[0mlabel\u001b[0m \u001b[0;34m=\u001b[0m \u001b[0;34m\"ground state\"\u001b[0m\u001b[0;34m)\u001b[0m\u001b[0;34m\u001b[0m\u001b[0;34m\u001b[0m\u001b[0m\n\u001b[1;32m      5\u001b[0m \u001b[0;34m\u001b[0m\u001b[0m\n",
      "\u001b[0;32m~/anaconda3/envs/qi/lib/python3.9/site-packages/matplotlib/pyplot.py\u001b[0m in \u001b[0;36mplot\u001b[0;34m(scalex, scaley, data, *args, **kwargs)\u001b[0m\n\u001b[1;32m   2767\u001b[0m \u001b[0;34m@\u001b[0m\u001b[0m_copy_docstring_and_deprecators\u001b[0m\u001b[0;34m(\u001b[0m\u001b[0mAxes\u001b[0m\u001b[0;34m.\u001b[0m\u001b[0mplot\u001b[0m\u001b[0;34m)\u001b[0m\u001b[0;34m\u001b[0m\u001b[0;34m\u001b[0m\u001b[0m\n\u001b[1;32m   2768\u001b[0m \u001b[0;32mdef\u001b[0m \u001b[0mplot\u001b[0m\u001b[0;34m(\u001b[0m\u001b[0;34m*\u001b[0m\u001b[0margs\u001b[0m\u001b[0;34m,\u001b[0m \u001b[0mscalex\u001b[0m\u001b[0;34m=\u001b[0m\u001b[0;32mTrue\u001b[0m\u001b[0;34m,\u001b[0m \u001b[0mscaley\u001b[0m\u001b[0;34m=\u001b[0m\u001b[0;32mTrue\u001b[0m\u001b[0;34m,\u001b[0m \u001b[0mdata\u001b[0m\u001b[0;34m=\u001b[0m\u001b[0;32mNone\u001b[0m\u001b[0;34m,\u001b[0m \u001b[0;34m**\u001b[0m\u001b[0mkwargs\u001b[0m\u001b[0;34m)\u001b[0m\u001b[0;34m:\u001b[0m\u001b[0;34m\u001b[0m\u001b[0;34m\u001b[0m\u001b[0m\n\u001b[0;32m-> 2769\u001b[0;31m     return gca().plot(\n\u001b[0m\u001b[1;32m   2770\u001b[0m         \u001b[0;34m*\u001b[0m\u001b[0margs\u001b[0m\u001b[0;34m,\u001b[0m \u001b[0mscalex\u001b[0m\u001b[0;34m=\u001b[0m\u001b[0mscalex\u001b[0m\u001b[0;34m,\u001b[0m \u001b[0mscaley\u001b[0m\u001b[0;34m=\u001b[0m\u001b[0mscaley\u001b[0m\u001b[0;34m,\u001b[0m\u001b[0;34m\u001b[0m\u001b[0;34m\u001b[0m\u001b[0m\n\u001b[1;32m   2771\u001b[0m         **({\"data\": data} if data is not None else {}), **kwargs)\n",
      "\u001b[0;32m~/anaconda3/envs/qi/lib/python3.9/site-packages/matplotlib/axes/_axes.py\u001b[0m in \u001b[0;36mplot\u001b[0;34m(self, scalex, scaley, data, *args, **kwargs)\u001b[0m\n\u001b[1;32m   1630\u001b[0m         \"\"\"\n\u001b[1;32m   1631\u001b[0m         \u001b[0mkwargs\u001b[0m \u001b[0;34m=\u001b[0m \u001b[0mcbook\u001b[0m\u001b[0;34m.\u001b[0m\u001b[0mnormalize_kwargs\u001b[0m\u001b[0;34m(\u001b[0m\u001b[0mkwargs\u001b[0m\u001b[0;34m,\u001b[0m \u001b[0mmlines\u001b[0m\u001b[0;34m.\u001b[0m\u001b[0mLine2D\u001b[0m\u001b[0;34m)\u001b[0m\u001b[0;34m\u001b[0m\u001b[0;34m\u001b[0m\u001b[0m\n\u001b[0;32m-> 1632\u001b[0;31m         \u001b[0mlines\u001b[0m \u001b[0;34m=\u001b[0m \u001b[0;34m[\u001b[0m\u001b[0;34m*\u001b[0m\u001b[0mself\u001b[0m\u001b[0;34m.\u001b[0m\u001b[0m_get_lines\u001b[0m\u001b[0;34m(\u001b[0m\u001b[0;34m*\u001b[0m\u001b[0margs\u001b[0m\u001b[0;34m,\u001b[0m \u001b[0mdata\u001b[0m\u001b[0;34m=\u001b[0m\u001b[0mdata\u001b[0m\u001b[0;34m,\u001b[0m \u001b[0;34m**\u001b[0m\u001b[0mkwargs\u001b[0m\u001b[0;34m)\u001b[0m\u001b[0;34m]\u001b[0m\u001b[0;34m\u001b[0m\u001b[0;34m\u001b[0m\u001b[0m\n\u001b[0m\u001b[1;32m   1633\u001b[0m         \u001b[0;32mfor\u001b[0m \u001b[0mline\u001b[0m \u001b[0;32min\u001b[0m \u001b[0mlines\u001b[0m\u001b[0;34m:\u001b[0m\u001b[0;34m\u001b[0m\u001b[0;34m\u001b[0m\u001b[0m\n\u001b[1;32m   1634\u001b[0m             \u001b[0mself\u001b[0m\u001b[0;34m.\u001b[0m\u001b[0madd_line\u001b[0m\u001b[0;34m(\u001b[0m\u001b[0mline\u001b[0m\u001b[0;34m)\u001b[0m\u001b[0;34m\u001b[0m\u001b[0;34m\u001b[0m\u001b[0m\n",
      "\u001b[0;32m~/anaconda3/envs/qi/lib/python3.9/site-packages/matplotlib/axes/_base.py\u001b[0m in \u001b[0;36m__call__\u001b[0;34m(self, data, *args, **kwargs)\u001b[0m\n\u001b[1;32m    310\u001b[0m                 \u001b[0mthis\u001b[0m \u001b[0;34m+=\u001b[0m \u001b[0margs\u001b[0m\u001b[0;34m[\u001b[0m\u001b[0;36m0\u001b[0m\u001b[0;34m]\u001b[0m\u001b[0;34m,\u001b[0m\u001b[0;34m\u001b[0m\u001b[0;34m\u001b[0m\u001b[0m\n\u001b[1;32m    311\u001b[0m                 \u001b[0margs\u001b[0m \u001b[0;34m=\u001b[0m \u001b[0margs\u001b[0m\u001b[0;34m[\u001b[0m\u001b[0;36m1\u001b[0m\u001b[0;34m:\u001b[0m\u001b[0;34m]\u001b[0m\u001b[0;34m\u001b[0m\u001b[0;34m\u001b[0m\u001b[0m\n\u001b[0;32m--> 312\u001b[0;31m             \u001b[0;32myield\u001b[0m \u001b[0;32mfrom\u001b[0m \u001b[0mself\u001b[0m\u001b[0;34m.\u001b[0m\u001b[0m_plot_args\u001b[0m\u001b[0;34m(\u001b[0m\u001b[0mthis\u001b[0m\u001b[0;34m,\u001b[0m \u001b[0mkwargs\u001b[0m\u001b[0;34m)\u001b[0m\u001b[0;34m\u001b[0m\u001b[0;34m\u001b[0m\u001b[0m\n\u001b[0m\u001b[1;32m    313\u001b[0m \u001b[0;34m\u001b[0m\u001b[0m\n\u001b[1;32m    314\u001b[0m     \u001b[0;32mdef\u001b[0m \u001b[0mget_next_color\u001b[0m\u001b[0;34m(\u001b[0m\u001b[0mself\u001b[0m\u001b[0;34m)\u001b[0m\u001b[0;34m:\u001b[0m\u001b[0;34m\u001b[0m\u001b[0;34m\u001b[0m\u001b[0m\n",
      "\u001b[0;32m~/anaconda3/envs/qi/lib/python3.9/site-packages/matplotlib/axes/_base.py\u001b[0m in \u001b[0;36m_plot_args\u001b[0;34m(self, tup, kwargs, return_kwargs)\u001b[0m\n\u001b[1;32m    499\u001b[0m                              f\"have shapes {x.shape} and {y.shape}\")\n\u001b[1;32m    500\u001b[0m         \u001b[0;32mif\u001b[0m \u001b[0mx\u001b[0m\u001b[0;34m.\u001b[0m\u001b[0mndim\u001b[0m \u001b[0;34m>\u001b[0m \u001b[0;36m2\u001b[0m \u001b[0;32mor\u001b[0m \u001b[0my\u001b[0m\u001b[0;34m.\u001b[0m\u001b[0mndim\u001b[0m \u001b[0;34m>\u001b[0m \u001b[0;36m2\u001b[0m\u001b[0;34m:\u001b[0m\u001b[0;34m\u001b[0m\u001b[0;34m\u001b[0m\u001b[0m\n\u001b[0;32m--> 501\u001b[0;31m             raise ValueError(f\"x and y can be no greater than 2D, but have \"\n\u001b[0m\u001b[1;32m    502\u001b[0m                              f\"shapes {x.shape} and {y.shape}\")\n\u001b[1;32m    503\u001b[0m         \u001b[0;32mif\u001b[0m \u001b[0mx\u001b[0m\u001b[0;34m.\u001b[0m\u001b[0mndim\u001b[0m \u001b[0;34m==\u001b[0m \u001b[0;36m1\u001b[0m\u001b[0;34m:\u001b[0m\u001b[0;34m\u001b[0m\u001b[0;34m\u001b[0m\u001b[0m\n",
      "\u001b[0;31mValueError\u001b[0m: x and y can be no greater than 2D, but have shapes (7,) and (7, 3, 3)"
     ]
    },
    {
     "data": {
      "image/png": "[encoded data removed]",
      "text/plain": [
       "<Figure size 1000x600 with 1 Axes>"
      ]
     },
     "metadata": {},
     "output_type": "display_data"
    }
   ],
   "source": [
    "fig, ax = plt.subplots(figsize = (10, 6))\n",
    "\n",
    "plt.plot(omegas_to_test, exp_n_e, marker = \"x\", label = \"excited state\")\n",
    "plt.plot(omegas_to_test, exp_n_g, marker = \"x\", label = \"ground state\")\n",
    "\n",
    "plt.legend()"
   ]
  },
  {
   "cell_type": "code",
   "execution_count": null,
   "metadata": {},
   "outputs": [],
   "source": [
    "\n",
    "density_matrices = [results.y[:, i].reshape(dimensions) for i in range(len(results.t))]\n",
    "density_matrices = np.array(density_matrices)\n",
    "\n",
    "resonator_density_matrices = [system.partial_trace(density_matrices[i], 0) for i in range(len(results.t))]\n",
    "resonator_density_matrices = np.array(resonator_density_matrices)\n",
    "\n",
    "\n",
    "avg_photon_count = np.trace(np.expand_dims(resonator.n_matrix().todense(), 0) @ resonator_density_matrices, axis1 = 1, axis2 = 2)"
   ]
  },
  {
   "cell_type": "code",
   "execution_count": null,
   "metadata": {},
   "outputs": [
    {
     "data": {
      "text/plain": [
       "[<matplotlib.lines.Line2D at 0x7f7136ef6d30>]"
      ]
     },
     "execution_count": 297,
     "metadata": {},
     "output_type": "execute_result"
    },
    {
     "data": {
      "image/png": "[encoded data removed]",
      "text/plain": [
       "<Figure size 640x480 with 2 Axes>"
      ]
     },
     "metadata": {},
     "output_type": "display_data"
    }
   ],
   "source": [
    "fig, ax = plt.subplots()\n",
    "ax.plot(results.t, avg_photon_count)\n",
    "# plt.plot(results.t, np.imag(S11))\n",
    "\n",
    "ax1 = ax.twinx()\n",
    "ax1.plot(results.t, pulse_on_resonator[0](results.t) + pulse_on_resonator[1](results.t) , color = 'black', alpha = 0.5)\n",
    "# ax1.set_ylim(-1.1, 5)"
   ]
  },
  {
   "cell_type": "code",
   "execution_count": null,
   "metadata": {},
   "outputs": [],
   "source": []
  }
 ],
 "metadata": {
  "kernelspec": {
   "display_name": "Python 3.9.13 ('qi')",
   "language": "python",
   "name": "python3"
  },
  "language_info": {
   "codemirror_mode": {
    "name": "ipython",
    "version": 3
   },
   "file_extension": ".py",
   "mimetype": "text/x-python",
   "name": "python",
   "nbconvert_exporter": "python",
   "pygments_lexer": "ipython3",
   "version": "3.9.13"
  },
  "orig_nbformat": 4,
  "vscode": {
   "interpreter": {
    "hash": "f6c6af7a5d17802718a1b9014d8fd6327bae134bc0eef148071f896cc5d034f6"
   }
  }
 },
 "nbformat": 4,
 "nbformat_minor": 2
}
