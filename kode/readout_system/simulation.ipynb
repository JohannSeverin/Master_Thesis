{
 "cells": [
  {
   "cell_type": "code",
   "execution_count": 283,
   "metadata": {},
   "outputs": [],
   "source": [
    "import numpy as np\n",
    "import matplotlib.pyplot as plt \n",
    "\n",
    "import importlib\n",
    "\n",
    "import components as comp\n",
    "importlib.reload(comp);\n",
    "\n",
    "import utils\n",
    "importlib.reload(utils);"
   ]
  },
  {
   "cell_type": "code",
   "execution_count": 284,
   "metadata": {},
   "outputs": [],
   "source": [
    "### Parameters\n",
    "computational_states    = 3\n",
    "resonator_states        = 10\n",
    "\n",
    "# System\n",
    "system = utils.System(dimensions = (computational_states, resonator_states))\n",
    "\n",
    "# Readout duration\n",
    "duration = (0, 50)\n",
    "\n",
    "# Define the components, which are defined in components.py\n",
    "# The superconducting qubit\n",
    "transmon = comp.Transmon(\n",
    "    n_cutoff        = 11,\n",
    "    e               = 1.519e6,              # GHz / V\n",
    "    EJ              = 34,                   # GHz hbar\n",
    "    EJ_EC_ratio     = 128,                  # Gives EC = EJ / ratio\n",
    "    # gamma           = 2.5                 # EJ2 / EJ1    \n",
    ")\n",
    "\n",
    "# Resonator for readout\n",
    "resonator = comp.Resonator(\n",
    "    omega           = 6.02,                 # GHz\n",
    "    n_cutoff        = resonator_states      # States of harmonic oscillator\n",
    "    \n",
    ")\n",
    "\n",
    "# Readout pulse\n",
    "readout_pulse = comp.ResonatorProbePulse(\n",
    "    omega       = 6.02,\n",
    "    duration    = (20, 30),\n",
    "    rise_time   = 2,\n",
    "    fall_time   = 2,\n",
    "    amplitude   = 5 / 6.02 ** 2\n",
    ")\n"
   ]
  },
  {
   "cell_type": "markdown",
   "metadata": {},
   "source": [
    "## Defining Hamiltonians\n",
    "We can now define the hamiltonians of the system:"
   ]
  },
  {
   "cell_type": "code",
   "execution_count": 285,
   "metadata": {},
   "outputs": [],
   "source": [
    "# Find subspace of Transmon\n",
    "Es, Psis = transmon.eigen_basis(computational_states)   # Get states and energies for transmon\n",
    "H0_transmon = np.diag(Es - Es[0])                       # Set E0 = 0\n",
    "\n",
    "\n",
    "# H0 of the resonator is simply found by:\n",
    "H0_resonator    = resonator.Hamiltonian().todense()\n",
    "\n",
    "\n",
    "# We need to define mathematical tools to combine the system\n",
    "transmon_identity   = np.identity(n = computational_states)\n",
    "resonator_identity  = np.identity(n = resonator_states)\n",
    "\n",
    "\n",
    "# Combine the Hamiltonians by tensor product \n",
    "H0_transmon_big  = np.kron(resonator_identity,  H0_transmon)\n",
    "H0_resonator_big = np.kron(H0_resonator,        transmon_identity)\n",
    "\n",
    "# Sum to get full H0 in 3 x 20 space\n",
    "H0 = H0_transmon_big + H0_resonator_big\n"
   ]
  },
  {
   "cell_type": "code",
   "execution_count": 286,
   "metadata": {},
   "outputs": [
    {
     "data": {
      "text/plain": [
       "<matplotlib.image.AxesImage at 0x7f71358b0b50>"
      ]
     },
     "execution_count": 286,
     "metadata": {},
     "output_type": "execute_result"
    },
    {
     "data": {
      "image/png": "[encoded data removed]",
      "text/plain": [
       "<Figure size 640x480 with 1 Axes>"
      ]
     },
     "metadata": {},
     "output_type": "display_data"
    }
   ],
   "source": [
    "plt.imshow(H0)"
   ]
  },
  {
   "cell_type": "code",
   "execution_count": 287,
   "metadata": {},
   "outputs": [
    {
     "data": {
      "text/plain": [
       "<matplotlib.image.AxesImage at 0x7f7135a60a90>"
      ]
     },
     "execution_count": 287,
     "metadata": {},
     "output_type": "execute_result"
    },
    {
     "data": {
      "image/png": "[encoded data removed]",
      "text/plain": [
       "<Figure size 640x480 with 1 Axes>"
      ]
     },
     "metadata": {},
     "output_type": "display_data"
    }
   ],
   "source": [
    "# Transmon interaction\n",
    "H_overlap_n = np.conjugate(Psis).T @ transmon.n_matrix() @ Psis\n",
    "\n",
    "#### NEED MORE THEORY TO DEFINE THIS INTERACTION TERM #### \n",
    "# Now we just assume g_k = 1. Probably we take the overlap between them.\n",
    "H_int_resonator = (resonator.a_dagger() + resonator.a()).todense()\n",
    "\n",
    "# Direct product to get it in 3 x 20 hilbert space\n",
    "H_int = np.kron(np.triu(H_int_resonator), np.tril(H_overlap_n)) + np.kron(np.tril(H_int_resonator), np.triu(H_overlap_n))\n",
    "\n",
    "\n",
    "plt.imshow(H_int)"
   ]
  },
  {
   "cell_type": "markdown",
   "metadata": {},
   "source": [
    "## Interaction Eigenvalues "
   ]
  },
  {
   "cell_type": "code",
   "execution_count": 288,
   "metadata": {},
   "outputs": [
    {
     "data": {
      "text/plain": [
       "<matplotlib.image.AxesImage at 0x7f71357fa8e0>"
      ]
     },
     "execution_count": 288,
     "metadata": {},
     "output_type": "execute_result"
    },
    {
     "data": {
      "image/png": "[encoded data removed]",
      "text/plain": [
       "<Figure size 640x480 with 1 Axes>"
      ]
     },
     "metadata": {},
     "output_type": "display_data"
    }
   ],
   "source": [
    "interaction_strength = 0.130 # GHz \n",
    "\n",
    "H_with_interaction = H0 + interaction_strength *  H_int\n",
    "plt.imshow(H_with_interaction)"
   ]
  },
  {
   "attachments": {},
   "cell_type": "markdown",
   "metadata": {},
   "source": [
    "## Readout Drive"
   ]
  },
  {
   "cell_type": "code",
   "execution_count": 289,
   "metadata": {},
   "outputs": [],
   "source": [
    "from scipy.linalg import expm\n",
    "@jit()\n",
    "def U(t):\n",
    "    return np.eye(H0.shape[0]) * np.exp(1j * 6.02 * t)\n",
    "    # return np.diag(np.exp(1j * np.diag(H0) * t))"
   ]
  },
  {
   "cell_type": "code",
   "execution_count": 290,
   "metadata": {},
   "outputs": [],
   "source": [
    "plt.show()"
   ]
  },
  {
   "cell_type": "code",
   "execution_count": 291,
   "metadata": {},
   "outputs": [],
   "source": [
    "from numba import jit"
   ]
  },
  {
   "cell_type": "code",
   "execution_count": 292,
   "metadata": {},
   "outputs": [],
   "source": [
    "pulse_on_resonator = readout_pulse.output()\n",
    "\n",
    "# Define the time dependent Hamiltonian to drive the resonator\n",
    "@jit()\n",
    "def H_resonator_drive(t):\n",
    "    total_pulse = pulse_on_resonator[0](t) + pulse_on_resonator[1](t) \n",
    "    H_reso      = 2j *  total_pulse * (resonator.a_dagger() - resonator.a())\n",
    "\n",
    "    H_reso_hilbert_space = np.kron(H_reso.todense(), transmon_identity)\n",
    "\n",
    "    return H_reso_hilbert_space\n"
   ]
  },
  {
   "cell_type": "code",
   "execution_count": 293,
   "metadata": {},
   "outputs": [
    {
     "name": "stderr",
     "output_type": "stream",
     "text": [
      "/tmp/ipykernel_9590/1844132581.py:8: NumbaWarning: \u001b[1m\n",
      "Compilation is falling back to object mode WITH looplifting enabled because Function \"master_equation\" failed type inference due to: \u001b[1m\u001b[1m\u001b[1mInvalid use of type(CPUDispatcher(<function total_hamiltonian at 0x7f713560d700>)) with parameters (float64)\n",
      "\u001b[0m\n",
      "\u001b[0m\u001b[1mDuring: resolving callee type: type(CPUDispatcher(<function total_hamiltonian at 0x7f713560d700>))\u001b[0m\n",
      "\u001b[0m\u001b[1mDuring: typing of call at /tmp/ipykernel_9590/1844132581.py (16)\n",
      "\u001b[0m\n",
      "\u001b[1m\n",
      "File \"../../../../../../../../../tmp/ipykernel_9590/1844132581.py\", line 16:\u001b[0m\n",
      "\u001b[1m<source missing, REPL/exec in use?>\u001b[0m\n",
      "\u001b[0m\n",
      "  @jit()\n",
      "/home/johannseverin/anaconda3/envs/qi/lib/python3.9/site-packages/numba/core/object_mode_passes.py:151: NumbaWarning: \u001b[1mFunction \"master_equation\" was compiled in object mode without forceobj=True.\n",
      "\u001b[1m\n",
      "File \"../../../../../../../../../tmp/ipykernel_9590/1844132581.py\", line 8:\u001b[0m\n",
      "\u001b[1m<source missing, REPL/exec in use?>\u001b[0m\n",
      "\u001b[0m\n",
      "  warnings.warn(errors.NumbaWarning(warn_msg,\n",
      "/home/johannseverin/anaconda3/envs/qi/lib/python3.9/site-packages/numba/core/object_mode_passes.py:161: NumbaDeprecationWarning: \u001b[1m\n",
      "Fall-back from the nopython compilation path to the object mode compilation path has been detected, this is deprecated behaviour.\n",
      "\n",
      "For more information visit https://numba.readthedocs.io/en/stable/reference/deprecation.html#deprecation-of-object-mode-fall-back-behaviour-when-using-jit\n",
      "\u001b[1m\n",
      "File \"../../../../../../../../../tmp/ipykernel_9590/1844132581.py\", line 8:\u001b[0m\n",
      "\u001b[1m<source missing, REPL/exec in use?>\u001b[0m\n",
      "\u001b[0m\n",
      "  warnings.warn(errors.NumbaDeprecationWarning(msg,\n",
      "/tmp/ipykernel_9590/1844132581.py:8: NumbaWarning: \u001b[1m\n",
      "Compilation is falling back to object mode WITH looplifting enabled because Function \"master_equation\" failed type inference due to: \u001b[1m\u001b[1m\u001b[1mInvalid use of type(CPUDispatcher(<function total_hamiltonian at 0x7f713560d700>)) with parameters (float64)\n",
      "\u001b[0m\n",
      "\u001b[0m\u001b[1mDuring: resolving callee type: type(CPUDispatcher(<function total_hamiltonian at 0x7f713560d700>))\u001b[0m\n",
      "\u001b[0m\u001b[1mDuring: typing of call at /tmp/ipykernel_9590/1844132581.py (16)\n",
      "\u001b[0m\n",
      "\u001b[1m\n",
      "File \"../../../../../../../../../tmp/ipykernel_9590/1844132581.py\", line 16:\u001b[0m\n",
      "\u001b[1m<source missing, REPL/exec in use?>\u001b[0m\n",
      "\u001b[0m\n",
      "  @jit()\n",
      "/home/johannseverin/anaconda3/envs/qi/lib/python3.9/site-packages/numba/core/object_mode_passes.py:151: NumbaWarning: \u001b[1mFunction \"master_equation\" was compiled in object mode without forceobj=True.\n",
      "\u001b[1m\n",
      "File \"../../../../../../../../../tmp/ipykernel_9590/1844132581.py\", line 8:\u001b[0m\n",
      "\u001b[1m<source missing, REPL/exec in use?>\u001b[0m\n",
      "\u001b[0m\n",
      "  warnings.warn(errors.NumbaWarning(warn_msg,\n",
      "/home/johannseverin/anaconda3/envs/qi/lib/python3.9/site-packages/numba/core/object_mode_passes.py:161: NumbaDeprecationWarning: \u001b[1m\n",
      "Fall-back from the nopython compilation path to the object mode compilation path has been detected, this is deprecated behaviour.\n",
      "\n",
      "For more information visit https://numba.readthedocs.io/en/stable/reference/deprecation.html#deprecation-of-object-mode-fall-back-behaviour-when-using-jit\n",
      "\u001b[1m\n",
      "File \"../../../../../../../../../tmp/ipykernel_9590/1844132581.py\", line 8:\u001b[0m\n",
      "\u001b[1m<source missing, REPL/exec in use?>\u001b[0m\n",
      "\u001b[0m\n",
      "  warnings.warn(errors.NumbaDeprecationWarning(msg,\n"
     ]
    }
   ],
   "source": [
    "@jit()\n",
    "def total_hamiltonian(t):\n",
    "    return (H_with_interaction + H_resonator_drive(t)) \n",
    "\n",
    "dimensions = (resonator_states * computational_states, resonator_states * computational_states)\n",
    "\n",
    "# Define the master equation\n",
    "@jit()\n",
    "def master_equation(t, y):\n",
    "    U_matrix = U(t)\n",
    "    U_matrix_dagger = U_matrix.conj().T\n",
    "\n",
    "    density_matrix = U_matrix @ y.reshape(dimensions) @ U_matrix_dagger\n",
    "\n",
    "    # Calculate the time dependent hamiltonian\n",
    "    H_t = U_matrix @ total_hamiltonian(t) @ U_matrix_dagger\n",
    "    \n",
    "    # Calculate the time derivative of the density matrix\n",
    "    d_rho = -1j * (H_t @ density_matrix - density_matrix @ H_t.conj().T)\n",
    "    \n",
    "    d_rho = U_matrix_dagger @ d_rho @ U_matrix\n",
    "\n",
    "    return d_rho.flatten()\n",
    "\n",
    "# Define the first excited state of the resonator\n",
    "resonator_e = np.zeros(resonator_states, dtype = np.complex128)\n",
    "resonator_e[0] = 1\n",
    "\n",
    "# Define ground state of transmon\n",
    "transmon_g = np.array((1, 0, 0), dtype = np.complex128)\n",
    "\n",
    "# Define initial density matrix\n",
    "initial_state = np.kron(resonator_e, transmon_g)\n",
    "initial_density_matrix = np.outer(initial_state, initial_state.conj())\n",
    "\n",
    "# Solve the master equation\n",
    "from scipy.integrate import solve_ivp\n",
    "results = solve_ivp(master_equation, duration, initial_density_matrix.flatten())\n"
   ]
  },
  {
   "cell_type": "code",
   "execution_count": 296,
   "metadata": {},
   "outputs": [],
   "source": [
    "\n",
    "density_matrices = [results.y[:, i].reshape(dimensions) for i in range(len(results.t))]\n",
    "density_matrices = np.array(density_matrices)\n",
    "\n",
    "resonator_density_matrices = [system.partial_trace(density_matrices[i], 0) for i in range(len(results.t))]\n",
    "resonator_density_matrices = np.array(resonator_density_matrices)\n",
    "\n",
    "\n",
    "avg_photon_count = np.trace(np.expand_dims(resonator.n_matrix().todense(), 0) @ resonator_density_matrices, axis1 = 1, axis2 = 2)"
   ]
  },
  {
   "cell_type": "code",
   "execution_count": 297,
   "metadata": {},
   "outputs": [
    {
     "data": {
      "text/plain": [
       "[<matplotlib.lines.Line2D at 0x7f7136ef6d30>]"
      ]
     },
     "execution_count": 297,
     "metadata": {},
     "output_type": "execute_result"
    },
    {
     "data": {
      "image/png": "[encoded data removed]",
      "text/plain": [
       "<Figure size 640x480 with 2 Axes>"
      ]
     },
     "metadata": {},
     "output_type": "display_data"
    }
   ],
   "source": [
    "fig, ax = plt.subplots()\n",
    "ax.plot(results.t, avg_photon_count)\n",
    "# plt.plot(results.t, np.imag(S11))\n",
    "\n",
    "ax1 = ax.twinx()\n",
    "ax1.plot(results.t, pulse_on_resonator[0](results.t) + pulse_on_resonator[1](results.t) , color = 'black', alpha = 0.5)\n",
    "# ax1.set_ylim(-1.1, 5)"
   ]
  },
  {
   "cell_type": "code",
   "execution_count": null,
   "metadata": {},
   "outputs": [],
   "source": []
  }
 ],
 "metadata": {
  "kernelspec": {
   "display_name": "Python 3.9.13 ('qi')",
   "language": "python",
   "name": "python3"
  },
  "language_info": {
   "codemirror_mode": {
    "name": "ipython",
    "version": 3
   },
   "file_extension": ".py",
   "mimetype": "text/x-python",
   "name": "python",
   "nbconvert_exporter": "python",
   "pygments_lexer": "ipython3",
   "version": "3.9.13"
  },
  "orig_nbformat": 4,
  "vscode": {
   "interpreter": {
    "hash": "f6c6af7a5d17802718a1b9014d8fd6327bae134bc0eef148071f896cc5d034f6"
   }
  }
 },
 "nbformat": 4,
 "nbformat_minor": 2
}
