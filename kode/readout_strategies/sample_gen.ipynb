{
 "cells": [
  {
   "cell_type": "code",
   "execution_count": 127,
   "metadata": {},
   "outputs": [],
   "source": [
    "import numpy as np\n",
    "import matplotlib.pyplot as plt\n",
    "import sys\n",
    "\n",
    "plt.style.use(\"../matplotlib_style/standard_plot_style.mplstyle\")\n",
    "\n",
    "import qutip\n",
    "\n",
    "save_figures = False\n",
    "save_path    = \"/mnt/c/Users/johan/OneDrive/Skrivebord/Master_Thesis/Figs/Dispersive_Simulations\"\n",
    "\n",
    "sys.path.append(\"../utils\")"
   ]
  },
  {
   "cell_type": "markdown",
   "metadata": {},
   "source": [
    "## Simulate Qubit\n",
    "We take the qubit from Elie Genois - Quantum-tailored readout strategies for quantum error correction - DOI:https://doi.org/10.1103/PRXQuantum.2.040355\n"
   ]
  },
  {
   "cell_type": "code",
   "execution_count": 128,
   "metadata": {},
   "outputs": [],
   "source": [
    "sample_size    = 100\n",
    "drive_freq     = \"inbetween\" # \"inbetween\", \"q0\" or \"q1\"\n",
    "\n",
    "name = \"test_sample\""
   ]
  },
  {
   "cell_type": "code",
   "execution_count": 86,
   "metadata": {},
   "outputs": [],
   "source": [
    "## Setup parameters:\n",
    "simulation_steps = 1001\n",
    "\n",
    "# Setup Qubit, Resonator and Coupling\n",
    "qubit_states    = 3\n",
    "n_cutoff        = 15\n",
    "EJ              = 10 * 2 * np.pi # h GHz\n",
    "EC              = EJ / 25\n",
    "\n",
    "resonator_states        = 20\n",
    "resonator_frequency     = 6.02 * 2 * np.pi    \n",
    "\n",
    "coupling_strength       = 0.250 * 2 * np.pi\n",
    "\n",
    "\n",
    "# Setup drive\n",
    "drive_amplitude        = 0.015\n",
    "driving_time           = (0, 1000)\n",
    "# drive_function         = lam'bda t, args: drive_amplitude * np.cos(args[\"driving_frequency\"] * t)\n",
    "\n",
    "\n",
    "# Loss parameters:\n",
    "# Setup the qubit decay\n",
    "rate_qubit_decay  = 1 / 10_000 # T1 time is 10 us\n",
    "rate_qubit_excite = 0.0        # No excitation, could be introduced by temperature\n",
    "\n",
    "readout_photon_rate = 0.1      # This is around optimal for this qubit kappa = 2 \\chi \n",
    "readout_efficiency  = 1\n",
    "\n",
    "\n",
    "# Define Qubit object\n",
    "import components as comp\n",
    "qubit = comp.Transmon(\n",
    "    EC = EC,\n",
    "    EJ = EJ,\n",
    "    basis = \"charge\",\n",
    "    n_cutoff = n_cutoff\n",
    ")\n",
    "# Define resonator operators\n",
    "from qutip import destroy\n",
    "a       = destroy(resonator_states)\n",
    "a_dag   = a.dag()\n",
    "\n",
    "\n",
    "# Get Qubit operators for the two level qubit\n",
    "H_qubit, jump_matrix = qubit.lowest_k_eigenstates(k = qubit_states)"
   ]
  },
  {
   "cell_type": "code",
   "execution_count": 87,
   "metadata": {},
   "outputs": [
    {
     "name": "stdout",
     "output_type": "stream",
     "text": [
      "omega_01 / h: \t5.222 GHz\n",
      "omega_02 / h: \t9.923 GHz\n",
      "omega_12 / h: \t4.700 GHz\n",
      "omega_r / h: \t6.020 GHz\n",
      "omega_r_q0 / h: \t6.029 GHz\n",
      "omega_r_q1 / h: \t6.020 GHz\n",
      "omega_r_q2 / h: \t6.010 GHz\n",
      "dispersive_shift: \t0.009 GHz\n"
     ]
    }
   ],
   "source": [
    "# Derived quantities\n",
    "\n",
    "# Calculate all types of constants, which is useful for further analysis:\n",
    "omega_01 = H_qubit.diag()[1] - H_qubit.diag()[0]\n",
    "omega_02 = H_qubit.diag()[2] - H_qubit.diag()[0]\n",
    "omega_12 = H_qubit.diag()[2] - H_qubit.diag()[1]\n",
    "\n",
    "# Calculate the dispersive shifts\n",
    "# Multi qubit shifts\n",
    "g_squared_matrix    = coupling_strength ** 2 * abs(jump_matrix.full()) ** 2\n",
    "omega_ij_matrix     = np.expand_dims(H_qubit.diag(), 1) - np.expand_dims(H_qubit.diag(), 0)\n",
    "omega_r             = resonator_frequency\n",
    "\n",
    "# The Chi-matrix\n",
    "chi_matrix          = g_squared_matrix * (1 / (omega_ij_matrix - omega_r) + 1 / (omega_ij_matrix + omega_r)) \n",
    "\n",
    "# The dis\n",
    "dispersive_shifts   = chi_matrix.sum(axis = 1) / 2 / np.pi\n",
    "\n",
    "\n",
    "# Omega resonator for qubits\n",
    "omega_resonator_qubit = resonator_frequency + dispersive_shifts\n",
    "\n",
    "# Print\n",
    "print_dict = {\n",
    "    \"omega_01 / h\": omega_01 / (2 * np.pi),\n",
    "    \"omega_02 / h\": omega_02 / (2 * np.pi),\n",
    "    \"omega_12 / h\": omega_12 / (2 * np.pi),\n",
    "    \"omega_r / h\": omega_r / (2 * np.pi),\n",
    "    \"omega_r_q0 / h\": omega_resonator_qubit[0] / (2 * np.pi),  \n",
    "    \"omega_r_q1 / h\": omega_resonator_qubit[1] / (2 * np.pi),\n",
    "    \"omega_r_q2 / h\": omega_resonator_qubit[2] / (2 * np.pi),\n",
    "    \"dispersive_shift\": (dispersive_shifts[0] - dispersive_shifts[1]) / (2 * np.pi),\n",
    "}\n",
    "\n",
    "for key, value in print_dict.items():\n",
    "    print(f\"{key}: \\t{value:.3f} GHz\")"
   ]
  },
  {
   "attachments": {},
   "cell_type": "markdown",
   "metadata": {},
   "source": [
    "## Define Hamiltonian - Dispersive limit:\n",
    "\n",
    "Non interacting:  \n",
    "\n",
    "$H_{eff} = (\\omega_r - \\omega_d  + \\sum_k \\chi_k \\ket{k}\\bra{k} ) a^\\dagger a$\n",
    "\n",
    "Driving\n",
    "\n",
    "$H_{d, eff} = \\epsilon (a^\\dagger + a)$"
   ]
  },
  {
   "cell_type": "code",
   "execution_count": 88,
   "metadata": {},
   "outputs": [],
   "source": [
    "from qutip import tensor\n",
    "\n",
    "# Drive inbetween the two qubit states\n",
    "drive_choices = {\n",
    "    \"inbetween\": (omega_resonator_qubit[0] + omega_resonator_qubit[1]) / 2,\n",
    "    \"q0\": omega_resonator_qubit[0],\n",
    "    \"q1\": omega_resonator_qubit[1],\n",
    "}\n",
    "\n",
    "drive_frequency = drive_choices[drive_freq] \n",
    "\n",
    "# Define the Hamiltonian components. \n",
    "H_res   = (omega_r - drive_frequency) * tensor(qutip.qeye(qubit_states), a_dag * a)\n",
    "H_disp  = tensor(qutip.Qobj(np.diag(dispersive_shifts)), a_dag * a)\n",
    "H_drive = drive_amplitude * tensor(qutip.qeye(qubit_states), a_dag + a)\n",
    "\n",
    "H =  H_res + H_disp + H_drive"
   ]
  },
  {
   "attachments": {},
   "cell_type": "markdown",
   "metadata": {},
   "source": [
    "# Simulations\n"
   ]
  },
  {
   "cell_type": "code",
   "execution_count": 89,
   "metadata": {},
   "outputs": [],
   "source": [
    "from qutip import ket2dm, operator_to_vector, create\n",
    "\n",
    "# Times\n",
    "tlist = np.linspace(*driving_time, simulation_steps)\n",
    "\n",
    "# Initial_states\n",
    "ground_resonator_state = qutip.basis(resonator_states, 0)\n",
    "ground_qubit_state     = qutip.basis(qubit_states, 0)\n",
    "excited_qubit_state    = qutip.basis(qubit_states, 1)\n",
    "\n",
    "# Define operators\n",
    "\n",
    "## Collapse Operators\n",
    "# Qubit decay\n",
    "qubit_decay_operator    = np.sqrt(rate_qubit_decay)     * destroy(qubit_states)\n",
    "qubit_excite_operator   = np.sqrt(rate_qubit_excite)    * create(qubit_states)\n",
    "\n",
    "# Resonator decay\n",
    "resonator_decay_operator = np.sqrt(readout_photon_rate) * destroy(resonator_states)\n",
    "\n",
    "## Expectation Operators\n",
    "# Qubit Occupation\n",
    "qubit_occupation_operator = qutip.num(qubit_states)\n",
    "\n",
    "# Resonator Occupation\n",
    "resonator_occupation_operator = qutip.num(resonator_states)\n",
    "\n",
    "resonator_I = a + a_dag\n",
    "resonator_Q = 1j * (a - a_dag)\n",
    "\n",
    "# Define the collapse operators\n",
    "e_ops = [\n",
    "    tensor(qutip.qeye(qubit_states), resonator_I),\n",
    "    tensor(qutip.qeye(qubit_states), resonator_Q)\n",
    "]\n"
   ]
  },
  {
   "cell_type": "code",
   "execution_count": 90,
   "metadata": {},
   "outputs": [
    {
     "name": "stdout",
     "output_type": "stream",
     "text": [
      "10.0%. Run time:  44.00s. Est. time left: 00:00:06:36\n",
      "20.0%. Run time:  80.34s. Est. time left: 00:00:05:21\n",
      "30.0%. Run time:  87.56s. Est. time left: 00:00:03:24\n",
      "40.0%. Run time: 127.34s. Est. time left: 00:00:03:11\n",
      "50.0%. Run time: 157.16s. Est. time left: 00:00:02:37\n",
      "60.0%. Run time: 174.66s. Est. time left: 00:00:01:56\n",
      "70.0%. Run time: 221.17s. Est. time left: 00:00:01:34\n",
      "80.0%. Run time: 228.66s. Est. time left: 00:00:00:57\n",
      "90.0%. Run time: 270.60s. Est. time left: 00:00:00:30\n",
      "100.0%. Run time: 276.83s. Est. time left: 00:00:00:00\n",
      "Total run time: 276.85s\n",
      "10.0%. Run time:  46.86s. Est. time left: 00:00:07:01\n",
      "20.0%. Run time: 104.52s. Est. time left: 00:00:06:58\n",
      "30.0%. Run time: 107.53s. Est. time left: 00:00:04:10\n",
      "40.0%. Run time: 158.99s. Est. time left: 00:00:03:58\n",
      "50.0%. Run time: 203.51s. Est. time left: 00:00:03:23\n",
      "60.0%. Run time: 207.67s. Est. time left: 00:00:02:18\n",
      "70.0%. Run time: 249.72s. Est. time left: 00:00:01:47\n",
      "80.0%. Run time: 265.43s. Est. time left: 00:00:01:06\n",
      "90.0%. Run time: 297.19s. Est. time left: 00:00:00:33\n",
      "100.0%. Run time: 306.80s. Est. time left: 00:00:00:00\n",
      "Total run time: 306.82s\n"
     ]
    }
   ],
   "source": [
    "from qutip import vector_to_operator, lindblad_dissipator, spre, spost, liouvillian, qeye, parallel_map\n",
    "from qutip.expect import expect_rho_vec\n",
    "\n",
    "from qutip import smesolve\n",
    "\n",
    "qubit_decay =         tensor(qubit_decay_operator,        qutip.qeye(resonator_states))\n",
    "qubit_excitation =    tensor(qubit_excite_operator,       qutip.qeye(resonator_states))\n",
    "photon_decay =        tensor(qutip.qeye(qubit_states),    destroy(resonator_states))\n",
    "\n",
    "\n",
    "result_ground_stochastic = smesolve(\n",
    "    H,\n",
    "    ket2dm(tensor(ground_qubit_state, ground_resonator_state)),\n",
    "    tlist,\n",
    "    c_ops  = [qubit_decay, qubit_excitation],\n",
    "    sc_ops = [np.sqrt(readout_photon_rate) * photon_decay],\n",
    "    e_ops = e_ops,\n",
    "    progress_bar = True,\n",
    "    ntraj = sample_size,\n",
    "    method = \"heterodyne\",\n",
    "    store_measurement = True,\n",
    "    map_func = parallel_map,\n",
    "    dW_factors = [1],\n",
    "    solver = \"taylor15\"\n",
    ")\n",
    "\n",
    "result_excited_stochastic = smesolve(\n",
    "    H,\n",
    "    ket2dm(tensor(excited_qubit_state, ground_resonator_state)),\n",
    "    tlist,\n",
    "    c_ops  = [qubit_decay, qubit_excitation],\n",
    "    sc_ops = [np.sqrt(readout_photon_rate) * photon_decay],\n",
    "    e_ops = e_ops,\n",
    "    ntraj = sample_size,\n",
    "    progress_bar = True,\n",
    "    method = \"heterodyne\",\n",
    "    store_measurement = True,\n",
    "    map_func = parallel_map,\n",
    "    dW_factors = [1],\n",
    "    solver = \"taylor15\"\n",
    ")\n"
   ]
  },
  {
   "cell_type": "code",
   "execution_count": 95,
   "metadata": {},
   "outputs": [
    {
     "data": {
      "text/plain": [
       "[<matplotlib.lines.Line2D at 0x7fadf1e07dc0>]"
      ]
     },
     "execution_count": 95,
     "metadata": {},
     "output_type": "execute_result"
    },
    {
     "data": {
      "image/png": "[encoded data removed]",
      "text/plain": [
       "<Figure size 1200x800 with 1 Axes>"
      ]
     },
     "metadata": {},
     "output_type": "display_data"
    }
   ],
   "source": [
    "# Extract information\n",
    "I_ground    = result_ground_stochastic.expect[0]\n",
    "Q_ground    = result_ground_stochastic.expect[1]\n",
    "I_excited   = result_excited_stochastic.expect[0]\n",
    "Q_excited   = result_excited_stochastic.expect[1]\n",
    "\n",
    "# Plot\n",
    "fig, ax = plt.subplots(1, 1)\n",
    "ax.plot(I_ground, Q_ground, label = \"Ground\")\n",
    "ax.plot(I_excited, Q_excited, label = \"Excited\")"
   ]
  },
  {
   "cell_type": "code",
   "execution_count": 96,
   "metadata": {},
   "outputs": [],
   "source": [
    "scaling_for_exp_value = np.sqrt(2 / readout_photon_rate)\n",
    "\n",
    "ground_measurement  = scaling_for_exp_value * np.array(result_ground_stochastic.measurement).squeeze()\n",
    "excited_measurement = scaling_for_exp_value * np.array(result_excited_stochastic.measurement).squeeze()"
   ]
  },
  {
   "cell_type": "code",
   "execution_count": 97,
   "metadata": {},
   "outputs": [],
   "source": [
    "def rolling_mean(array, window = 500):\n",
    "    return np.convolve(array, np.ones(window), 'same') / window"
   ]
  },
  {
   "cell_type": "code",
   "execution_count": 112,
   "metadata": {},
   "outputs": [
    {
     "data": {
      "application/vnd.jupyter.widget-view+json": {
       "model_id": "f15d2f5b1fa44630ae13b22c02fa9997",
       "version_major": 2,
       "version_minor": 0
      },
      "text/plain": [
       "interactive(children=(IntSlider(value=500, description='limit', max=1000), Output()), _dom_classes=('widget-in…"
      ]
     },
     "metadata": {},
     "output_type": "display_data"
    }
   ],
   "source": [
    "limit = 100\n",
    "\n",
    "def plotting_func(limit):\n",
    "\n",
    "    for i in range(result_excited_stochastic.ntraj):\n",
    "        plt.plot(np.cumsum(ground_measurement[i, :limit, 0]),  -np.cumsum(ground_measurement[i, :limit, 1]) , label = \"Ground\", color = \"C0\", alpha = 0.1)\n",
    "        plt.plot(np.cumsum(excited_measurement[i, :limit, 0]), -np.cumsum(excited_measurement[i, :limit, 1]) , label = \"Excited\", color = \"C1\", alpha = 0.1)\n",
    "\n",
    "    plt.scatter(ground_measurement[:, :limit, 0].sum(axis = 1), - ground_measurement[:, :limit, 1].sum(axis = 1) , label = \"Ground\", color = \"C0\", alpha = 1)\n",
    "    plt.scatter(excited_measurement[:, :limit, 0].sum(axis = 1), - excited_measurement[:, :limit, 1].sum(axis = 1) , label = \"Excited\", color = \"C1\", alpha = 1)\n",
    "\n",
    "from ipywidgets import interactive\n",
    "interactive(plotting_func, limit = (0, 1000, 1))"
   ]
  },
  {
   "cell_type": "code",
   "execution_count": 104,
   "metadata": {},
   "outputs": [
    {
     "data": {
      "text/plain": [
       "(100, 1001, 2)"
      ]
     },
     "execution_count": 104,
     "metadata": {},
     "output_type": "execute_result"
    }
   ],
   "source": [
    "ground_measurement.shape"
   ]
  },
  {
   "cell_type": "code",
   "execution_count": 105,
   "metadata": {},
   "outputs": [],
   "source": [
    "import pandas as pd"
   ]
  },
  {
   "cell_type": "code",
   "execution_count": 129,
   "metadata": {},
   "outputs": [],
   "source": [
    "list_to_concat = []\n",
    "for i in range(result_ground_stochastic.ntraj):\n",
    "    data = {\n",
    "        \"trajectory\": i,\n",
    "        \"initial_state\": 0,\n",
    "        \"t\": tlist,\n",
    "        \"I\": ground_measurement[i, :, 0].real,\n",
    "        \"Q\": ground_measurement[i, :, 1].real\n",
    "    }\n",
    "    list_to_concat.append(pd.DataFrame(data))\n",
    "\n",
    "for i in range(result_excited_stochastic.ntraj):\n",
    "    data = {\n",
    "        \"trajectory\": i + result_ground_stochastic.ntraj,\n",
    "        \"initial_state\": 1,\n",
    "        \"t\": tlist,\n",
    "        \"I\": excited_measurement[i, :, 0].real,\n",
    "        \"Q\": excited_measurement[i, :, 1].real\n",
    "    }\n",
    "    list_to_concat.append(pd.DataFrame(data))\n",
    "\n",
    "df = pd.concat(list_to_concat)\n",
    "\n",
    "df.to_csv(\"simulation_data/\" + name + \".csv\", index = False)"
   ]
  },
  {
   "cell_type": "code",
   "execution_count": null,
   "metadata": {},
   "outputs": [],
   "source": [
    "name"
   ]
  }
 ],
 "metadata": {
  "kernelspec": {
   "display_name": "qi",
   "language": "python",
   "name": "python3"
  },
  "language_info": {
   "codemirror_mode": {
    "name": "ipython",
    "version": 3
   },
   "file_extension": ".py",
   "mimetype": "text/x-python",
   "name": "python",
   "nbconvert_exporter": "python",
   "pygments_lexer": "ipython3",
   "version": "3.9.13"
  },
  "orig_nbformat": 4
 },
 "nbformat": 4,
 "nbformat_minor": 2
}
