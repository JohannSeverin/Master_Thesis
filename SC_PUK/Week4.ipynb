{
 "cells": [
  {
   "cell_type": "code",
   "execution_count": 2,
   "metadata": {},
   "outputs": [],
   "source": [
    "import numpy as np\n",
    "import matplotlib.pyplot as plt\n",
    "\n",
    "import ipywidgets as widgets"
   ]
  },
  {
   "cell_type": "code",
   "execution_count": 8,
   "metadata": {},
   "outputs": [
    {
     "ename": "IndentationError",
     "evalue": "expected an indented block (1589959516.py, line 15)",
     "output_type": "error",
     "traceback": [
      "\u001b[0;36m  Input \u001b[0;32mIn [8]\u001b[0;36m\u001b[0m\n\u001b[0;31m    widgets.FloatSlider(\u001b[0m\n\u001b[0m    ^\u001b[0m\n\u001b[0;31mIndentationError\u001b[0m\u001b[0;31m:\u001b[0m expected an indented block\n"
     ]
    }
   ],
   "source": [
    "fig, ax = plt.subplots(figsize = (10, 7))\n",
    "\n",
    "EC, EJ, EL = 1, 1, 1\n",
    "\n",
    "def V(phi external_angle):\n",
    "    return - EJ * \n",
    "\n",
    "\n",
    "\n",
    "\n",
    "def update_plot(external_angle):\n",
    "\n",
    "\n",
    "\n",
    "widgets.FloatSlider(\n",
    "    value   = 0,\n",
    "    min     = - np.pi,\n",
    "    max     =   np.pi,\n",
    "    step   = 0.1,\n",
    "    description = 'External Angle'\n",
    ")"
   ]
  },
  {
   "cell_type": "code",
   "execution_count": null,
   "metadata": {},
   "outputs": [],
   "source": []
  }
 ],
 "metadata": {
  "kernelspec": {
   "display_name": "base",
   "language": "python",
   "name": "python3"
  },
  "language_info": {
   "codemirror_mode": {
    "name": "ipython",
    "version": 3
   },
   "file_extension": ".py",
   "mimetype": "text/x-python",
   "name": "python",
   "nbconvert_exporter": "python",
   "pygments_lexer": "ipython3",
   "version": "3.9.12"
  },
  "orig_nbformat": 4,
  "vscode": {
   "interpreter": {
    "hash": "379158a3113349903398c750ffc650db2b64bf6e1a7c8133030bc245dbb7ab77"
   }
  }
 },
 "nbformat": 4,
 "nbformat_minor": 2
}
